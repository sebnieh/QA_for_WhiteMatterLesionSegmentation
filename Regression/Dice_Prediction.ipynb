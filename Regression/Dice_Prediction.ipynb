{
 "cells": [
  {
   "cell_type": "code",
   "execution_count": 9,
   "metadata": {},
   "outputs": [
    {
     "name": "stderr",
     "output_type": "stream",
     "text": [
      "/Users/elena/miniconda3/envs/aicuram/lib/python3.7/site-packages/statsmodels/tools/_testing.py:19: FutureWarning: pandas.util.testing is deprecated. Use the functions in the public API at pandas.testing instead.\n",
      "  import pandas.util.testing as tm\n"
     ]
    }
   ],
   "source": [
    "from tensorflow.keras.models import load_model\n",
    "from skimage import filters\n",
    "import matplotlib.pyplot as plt \n",
    "from random import randint\n",
    "from skimage import transform\n",
    "import tensorflow as tf\n",
    "import pandas as pd\n",
    "import nibabel as nib\n",
    "import scipy\n",
    "import os \n",
    "import numpy as np\n",
    "import random\n",
    "import pickle\n",
    "from tensorflow.keras.models import load_model\n",
    "from sklearn.metrics import mean_absolute_error\n",
    "import seaborn as sns\n"
   ]
  },
  {
   "cell_type": "code",
   "execution_count": 10,
   "metadata": {},
   "outputs": [],
   "source": [
    "### rescale functions\n",
    "def y_scaler(x, max_val=1):\n",
    "    \"\"\"Scale between 0 and 1\n",
    "    x: data to be scaled,\n",
    "    max_val: maximum value of dice, default=1.\"\"\"\n",
    "    min_val = np.nanmean(x, axis=0)\n",
    "    x_std = (x - min_val) / (max_val - min_val)\n",
    "    return x_std, min_val, max_val\n",
    "\n",
    "def y_inv_scaler(x, min_val, max_val):\n",
    "    return x * (max_val - min_val) + min_val\n",
    "def rescale(data, max=255):\n",
    "    '''\n",
    "    rescale array to [0 max]\n",
    "    '''\n",
    "    \n",
    "    data = data-np.min(np.ravel(data))\n",
    "    data = max* (data/np.max(np.ravel(data)))\n",
    "    return data"
   ]
  },
  {
   "cell_type": "markdown",
   "metadata": {},
   "source": [
    "## Evaluation"
   ]
  },
  {
   "cell_type": "code",
   "execution_count": 86,
   "metadata": {},
   "outputs": [],
   "source": [
    "# load the data to test the evaluation pipeline\n",
    "with open('1x_test.pkl', 'rb') as f:\n",
    "    x = pickle.load(f)\n",
    "\n",
    "with open('1entropy_unc_test.pkl', 'rb') as f:\n",
    "    entropy_map = pickle.load(f)\n",
    "\n",
    "with open('1prediction_test.pkl', 'rb') as f:\n",
    "    prediction = pickle.load(f)\n",
    "\n",
    "dice_val = np.loadtxt('1dice_test.txt', dtype=float)\n",
    "x = np.squeeze(x, axis=1)\n",
    "prediction = prediction[:,:,:,:,1]\n",
    "entropy_map = entropy_map[:,:,:,:,1]\n",
    "flair = x[:,:,:,:,1]\n",
    "entropy_map = rescale(entropy_map, max=1)\n",
    "\n",
    "flair_n = (flair - flair.mean(axis=0)) / flair.std(axis=0)\n"
   ]
  },
  {
   "cell_type": "code",
   "execution_count": 223,
   "metadata": {},
   "outputs": [],
   "source": [
    "x_input = np.stack((prediction, entropy_map), axis=4)"
   ]
  },
  {
   "cell_type": "code",
   "execution_count": 221,
   "metadata": {},
   "outputs": [],
   "source": [
    "model = load_model('1best_model_PE.hdf5')"
   ]
  },
  {
   "cell_type": "code",
   "execution_count": 224,
   "metadata": {},
   "outputs": [
    {
     "name": "stdout",
     "output_type": "stream",
     "text": [
      "WARNING:tensorflow:10 out of the last 11 calls to <function Model.make_predict_function.<locals>.predict_function at 0x7f934be858c0> triggered tf.function retracing. Tracing is expensive and the excessive number of tracings could be due to (1) creating @tf.function repeatedly in a loop, (2) passing tensors with different shapes, (3) passing Python objects instead of tensors. For (1), please define your @tf.function outside of the loop. For (2), @tf.function has experimental_relax_shapes=True option that relaxes argument shapes that can avoid unnecessary retracing. For (3), please refer to https://www.tensorflow.org/tutorials/customization/performance#python_or_tensor_args and https://www.tensorflow.org/api_docs/python/tf/function for  more details.\n"
     ]
    }
   ],
   "source": [
    "pred = model.predict(x_input)"
   ]
  },
  {
   "cell_type": "code",
   "execution_count": 225,
   "metadata": {},
   "outputs": [],
   "source": [
    "pred = pred.flatten()"
   ]
  },
  {
   "cell_type": "code",
   "execution_count": 226,
   "metadata": {
    "scrolled": true
   },
   "outputs": [
    {
     "data": {
      "text/plain": [
       "0.04796784260944911"
      ]
     },
     "execution_count": 226,
     "metadata": {},
     "output_type": "execute_result"
    }
   ],
   "source": [
    "np.sqrt(np.square(np.subtract(dice_val, pred)).mean())\n",
    "\n",
    "mean_absolute_error(dice_val, pred)"
   ]
  },
  {
   "cell_type": "code",
   "execution_count": 90,
   "metadata": {},
   "outputs": [
    {
     "data": {
      "text/plain": [
       "array([0.8378905 , 0.924525  , 0.8121928 , 0.8016598 , 0.8434284 ,\n",
       "       0.8820362 , 0.8918079 , 0.8336859 , 0.8186295 , 0.89616406],\n",
       "      dtype=float32)"
      ]
     },
     "execution_count": 90,
     "metadata": {},
     "output_type": "execute_result"
    }
   ],
   "source": [
    "pred[10:20]"
   ]
  },
  {
   "cell_type": "code",
   "execution_count": 47,
   "metadata": {},
   "outputs": [
    {
     "data": {
      "text/plain": [
       "array([0.91492456, 0.81621265, 0.89977753, 0.9161458 , 0.93707788,\n",
       "       0.79076397, 0.92945701, 0.80630529, 0.74516278, 0.86934215])"
      ]
     },
     "execution_count": 47,
     "metadata": {},
     "output_type": "execute_result"
    }
   ],
   "source": [
    "dice_val[10:20]"
   ]
  },
  {
   "cell_type": "markdown",
   "metadata": {},
   "source": [
    "Correlation coefficient"
   ]
  },
  {
   "cell_type": "code",
   "execution_count": 254,
   "metadata": {},
   "outputs": [
    {
     "data": {
      "text/plain": [
       "(0.710877572819552, 0.00030371183791010726)"
      ]
     },
     "execution_count": 254,
     "metadata": {},
     "output_type": "execute_result"
    }
   ],
   "source": [
    "import scipy.stats\n",
    "scipy.stats.pearsonr(dice_val, pred)"
   ]
  },
  {
   "cell_type": "markdown",
   "metadata": {},
   "source": [
    "Perform Dice filtering"
   ]
  },
  {
   "cell_type": "code",
   "execution_count": 256,
   "metadata": {},
   "outputs": [
    {
     "data": {
      "text/plain": [
       "0.8191111286190476"
      ]
     },
     "execution_count": 256,
     "metadata": {},
     "output_type": "execute_result"
    }
   ],
   "source": [
    "dice_filtered = dice_val[pred > 0.7]\n",
    "dice_filtered.mean()"
   ]
  },
  {
   "cell_type": "markdown",
   "metadata": {},
   "source": [
    "Scatterplot"
   ]
  },
  {
   "cell_type": "code",
   "execution_count": 234,
   "metadata": {},
   "outputs": [
    {
     "data": {
      "image/png": "[encoded data removed]",
      "text/plain": [
       "<Figure size 504x288 with 1 Axes>"
      ]
     },
     "metadata": {
      "needs_background": "light"
     },
     "output_type": "display_data"
    }
   ],
   "source": [
    "length = 1\n",
    "marks=np.arange(0.6,1.0,0.05)\n",
    "plt.figure(figsize=(7,4))\n",
    "sns.regplot(dice_val, pred, 'o', color='black')\n",
    "plt.xlabel('True Dice', fontsize=14)\n",
    "plt.ylabel('Predicted Dice', fontsize=14)\n",
    "plt.yticks(marks)\n",
    "sns.despine(left=False, bottom=False, top=True, right=True)\n",
    "plt.title('Uncertainty - Prediction', fontsize=16)\n",
    "\n",
    "plt.tight_layout()\n",
    "plt.savefig('reg_scatter_PE.pdf')"
   ]
  },
  {
   "cell_type": "markdown",
   "metadata": {},
   "source": [
    "# Image + Prediction"
   ]
  },
  {
   "cell_type": "code",
   "execution_count": 99,
   "metadata": {},
   "outputs": [
    {
     "data": {
      "text/plain": [
       "(21, 128, 128, 128, 2)"
      ]
     },
     "execution_count": 99,
     "metadata": {},
     "output_type": "execute_result"
    }
   ],
   "source": [
    "x_input.shape"
   ]
  },
  {
   "cell_type": "code",
   "execution_count": 235,
   "metadata": {},
   "outputs": [
    {
     "name": "stdout",
     "output_type": "stream",
     "text": [
      "WARNING:tensorflow:10 out of the last 11 calls to <function Model.make_predict_function.<locals>.predict_function at 0x7f8e07745f80> triggered tf.function retracing. Tracing is expensive and the excessive number of tracings could be due to (1) creating @tf.function repeatedly in a loop, (2) passing tensors with different shapes, (3) passing Python objects instead of tensors. For (1), please define your @tf.function outside of the loop. For (2), @tf.function has experimental_relax_shapes=True option that relaxes argument shapes that can avoid unnecessary retracing. For (3), please refer to https://www.tensorflow.org/tutorials/customization/performance#python_or_tensor_args and https://www.tensorflow.org/api_docs/python/tf/function for  more details.\n"
     ]
    }
   ],
   "source": [
    "model = load_model('1best_model_IP.hdf5')\n",
    "x_input = np.stack((prediction, flair_n), axis=4)\n",
    "pred2 = model.predict(x_input)\n",
    "pred2 = pred2.flatten()"
   ]
  },
  {
   "cell_type": "markdown",
   "metadata": {},
   "source": [
    "Correlation coefficient"
   ]
  },
  {
   "cell_type": "code",
   "execution_count": 251,
   "metadata": {},
   "outputs": [
    {
     "data": {
      "text/plain": [
       "(0.5974782581160906, 0.004234783776477339)"
      ]
     },
     "execution_count": 251,
     "metadata": {},
     "output_type": "execute_result"
    }
   ],
   "source": [
    "import scipy.stats\n",
    "scipy.stats.pearsonr(dice_val, pred2)"
   ]
  },
  {
   "cell_type": "markdown",
   "metadata": {},
   "source": [
    "Scatterplot"
   ]
  },
  {
   "cell_type": "code",
   "execution_count": 250,
   "metadata": {},
   "outputs": [
    {
     "data": {
      "image/png": "[encoded data removed]",
      "text/plain": [
       "<Figure size 504x288 with 1 Axes>"
      ]
     },
     "metadata": {
      "needs_background": "light"
     },
     "output_type": "display_data"
    }
   ],
   "source": [
    "length = 1\n",
    "marks=np.arange(0.6,1.0,0.05)\n",
    "plt.figure(figsize=(7,4))\n",
    "sns.regplot(dice_val, pred2, 'o', color='black')\n",
    "\n",
    "plt.xlabel('True Dice', fontsize=14)\n",
    "plt.ylabel('Predicted Dice', fontsize=14)\n",
    "plt.yticks(marks)\n",
    "plt.xticks(marks)\n",
    "sns.despine(left=False, bottom=False, top=True, right=True)\n",
    "plt.title('Image - Prediction', fontsize=16)\n",
    "\n",
    "plt.tight_layout()\n",
    "plt.savefig('reg_scatter_IP.pdf')"
   ]
  },
  {
   "cell_type": "code",
   "execution_count": 248,
   "metadata": {},
   "outputs": [],
   "source": [
    "prediction = pred2"
   ]
  },
  {
   "cell_type": "markdown",
   "metadata": {},
   "source": [
    "Perform Dice filtering"
   ]
  },
  {
   "cell_type": "code",
   "execution_count": 252,
   "metadata": {},
   "outputs": [
    {
     "data": {
      "text/plain": [
       "0.8461305030714286"
      ]
     },
     "execution_count": 252,
     "metadata": {},
     "output_type": "execute_result"
    }
   ],
   "source": [
    "dice_filtered = dice_val[prediction > 0.8]\n",
    "dice_filtered.mean()"
   ]
  },
  {
   "cell_type": "code",
   "execution_count": 111,
   "metadata": {},
   "outputs": [
    {
     "data": {
      "text/plain": [
       "0.8191111286190476"
      ]
     },
     "execution_count": 111,
     "metadata": {},
     "output_type": "execute_result"
    }
   ],
   "source": [
    "dice_val.mean()"
   ]
  },
  {
   "cell_type": "markdown",
   "metadata": {},
   "source": [
    "# EM"
   ]
  },
  {
   "cell_type": "code",
   "execution_count": 244,
   "metadata": {},
   "outputs": [],
   "source": [
    "pred3 = np.loadtxt(\"1predictions_em.txt\", dtype=float)\n",
    "pred3 = pred3.flatten()"
   ]
  },
  {
   "cell_type": "code",
   "execution_count": 245,
   "metadata": {},
   "outputs": [
    {
     "data": {
      "text/plain": [
       "0.10213809633333333"
      ]
     },
     "execution_count": 245,
     "metadata": {},
     "output_type": "execute_result"
    }
   ],
   "source": [
    "\n",
    "mean_absolute_error(dice_val, pred3)\n"
   ]
  },
  {
   "cell_type": "markdown",
   "metadata": {},
   "source": [
    "Correlation coefficient"
   ]
  },
  {
   "cell_type": "code",
   "execution_count": 203,
   "metadata": {},
   "outputs": [
    {
     "data": {
      "text/plain": [
       "(0.7329511386604605, 0.00015720099987267549)"
      ]
     },
     "execution_count": 203,
     "metadata": {},
     "output_type": "execute_result"
    }
   ],
   "source": [
    "import scipy.stats\n",
    "scipy.stats.pearsonr(dice_val, pred3)"
   ]
  },
  {
   "cell_type": "markdown",
   "metadata": {},
   "source": [
    "Scatterplot"
   ]
  },
  {
   "cell_type": "code",
   "execution_count": 247,
   "metadata": {},
   "outputs": [
    {
     "data": {
      "image/png": "[encoded data removed]",
      "text/plain": [
       "<Figure size 504x288 with 1 Axes>"
      ]
     },
     "metadata": {
      "needs_background": "light"
     },
     "output_type": "display_data"
    }
   ],
   "source": [
    "length = 1\n",
    "plt.figure(figsize=(7,4))\n",
    "sns.regplot(dice_val, pred3, 'o', color='black')\n",
    "\n",
    "plt.xlabel('True Dice', fontsize=14)\n",
    "plt.ylabel('Predicted Dice', fontsize=14)\n",
    "plt.yticks(marks)\n",
    "sns.despine(left=False, bottom=False, top=True, right=True)\n",
    "plt.title('Error - Prediction', fontsize=16)\n",
    "plt.tight_layout()\n",
    "\n",
    "plt.savefig('reg_scatter_EM.pdf')"
   ]
  },
  {
   "cell_type": "markdown",
   "metadata": {},
   "source": [
    "## Training history"
   ]
  },
  {
   "cell_type": "markdown",
   "metadata": {},
   "source": [
    "## Prediction - Uncertainty training history"
   ]
  },
  {
   "cell_type": "code",
   "execution_count": 162,
   "metadata": {},
   "outputs": [],
   "source": [
    "fold1 = pd.read_csv(\"training_hist/1training_PE.csv\", nrows=60)\n",
    "fold2 = pd.read_csv(\"training_hist/2training_PE.csv\", nrows=60)\n",
    "fold3 = pd.read_csv(\"training_hist/3training_PE.csv\", nrows=60)\n",
    "fold4 = pd.read_csv(\"training_hist/4training_PE.csv\", nrows=60)\n",
    "fold5 = pd.read_csv(\"training_hist/5training_PE.csv\", nrows=60)\n",
    "df_loss = pd.concat([fold1.loss, fold2.loss, fold3.loss, fold4.loss, fold5.loss], axis=1)\n",
    "df_loss = df_loss.median(axis=1)\n",
    "df_val_loss = pd.concat([fold1.val_loss, fold2.val_loss, fold3.val_loss, fold4.val_loss, fold5.val_loss], axis=1)\n",
    "df_val_loss = df_val_loss.median(axis=1)\n",
    "df_final = pd.concat([df_loss, df_val_loss], axis=1)"
   ]
  },
  {
   "cell_type": "code",
   "execution_count": 165,
   "metadata": {},
   "outputs": [],
   "source": [
    "length = 1\n",
    "marks=np.arange(0.0,0.1,0.02)"
   ]
  },
  {
   "cell_type": "code",
   "execution_count": 169,
   "metadata": {},
   "outputs": [
    {
     "data": {
      "image/png": "[encoded data removed]",
      "text/plain": [
       "<Figure size 504x288 with 1 Axes>"
      ]
     },
     "metadata": {
      "needs_background": "light"
     },
     "output_type": "display_data"
    }
   ],
   "source": [
    "\n",
    "df_final.plot(figsize=(7,4), lw=0.9)\n",
    "plt.legend(['Training Loss', 'Validation Loss'])\n",
    "plt.xlabel('Epoch', fontsize=14)\n",
    "plt.ylabel('Huber coefficient', fontsize=14)\n",
    "plt.yticks(marks)\n",
    "sns.despine(left=False, bottom=False, top=True, right=True)\n",
    "plt.title('Uncertainty - Prediction', fontsize=16)\n",
    "\n",
    "plt.tight_layout()\n",
    "plt.savefig('reg_training_PE.pdf')\n",
    "\n",
    "plt.show()"
   ]
  },
  {
   "cell_type": "markdown",
   "metadata": {},
   "source": [
    "## Image - Prediction training history"
   ]
  },
  {
   "cell_type": "code",
   "execution_count": 170,
   "metadata": {},
   "outputs": [],
   "source": [
    "fold1 = pd.read_csv(\"training_hist/1training_IP.csv\", nrows=60)\n",
    "fold2 = pd.read_csv(\"training_hist/2training_IP.csv\", nrows=60)\n",
    "fold3 = pd.read_csv(\"training_hist/3training_IP.csv\", nrows=60)\n",
    "fold4 = pd.read_csv(\"training_hist/4training_IP.csv\", nrows=60)\n",
    "fold5 = pd.read_csv(\"training_hist/5training_IP.csv\", nrows=60)\n"
   ]
  },
  {
   "cell_type": "code",
   "execution_count": 171,
   "metadata": {},
   "outputs": [],
   "source": [
    "df_loss = pd.concat([fold1.loss, fold2.loss, fold3.loss, fold4.loss, fold5.loss], axis=1)\n",
    "df_loss = df_loss.mean(axis=1)\n",
    "df_val_loss = pd.concat([fold1.val_loss, fold2.val_loss, fold3.val_loss, fold4.val_loss, fold5.val_loss], axis=1)\n",
    "df_val_loss = df_val_loss.mean(axis=1)"
   ]
  },
  {
   "cell_type": "code",
   "execution_count": 172,
   "metadata": {},
   "outputs": [],
   "source": [
    "df_final = pd.concat([df_loss, df_val_loss], axis=1)"
   ]
  },
  {
   "cell_type": "code",
   "execution_count": 175,
   "metadata": {},
   "outputs": [
    {
     "data": {
      "image/png": "[encoded data removed]",
      "text/plain": [
       "<Figure size 504x288 with 1 Axes>"
      ]
     },
     "metadata": {
      "needs_background": "light"
     },
     "output_type": "display_data"
    }
   ],
   "source": [
    "length = 1\n",
    "marks=np.arange(0.0,1.0,0.2)\n",
    "df_final.plot(figsize=(7,4), lw=0.9)\n",
    "plt.legend(['Training Loss', 'Validation Loss'])\n",
    "plt.xlabel('Epoch', fontsize=14)\n",
    "plt.ylabel('Huber coefficient', fontsize=14)\n",
    "plt.yticks(marks)\n",
    "sns.despine(left=False, bottom=False, top=True, right=True)\n",
    "plt.title('Image - Prediction', fontsize=16)\n",
    "\n",
    "plt.tight_layout()\n",
    "plt.savefig('reg_training_IP.pdf')\n",
    "\n",
    "plt.show()"
   ]
  },
  {
   "cell_type": "markdown",
   "metadata": {},
   "source": [
    "# EM training history"
   ]
  },
  {
   "cell_type": "code",
   "execution_count": 194,
   "metadata": {},
   "outputs": [],
   "source": [
    "fold1 = pd.read_csv(\"training_hist_4/1training_EM.csv\", nrows=60)\n",
    "fold2 = pd.read_csv(\"training_hist_4/2training_EM.csv\", nrows=60)\n",
    "fold3 = pd.read_csv(\"training_hist_4/3training_EM.csv\", nrows=60)\n",
    "fold4 = pd.read_csv(\"training_hist_4/4training_EM.csv\", nrows=60)\n",
    "fold5 = pd.read_csv(\"training_hist_4/5training_EM.csv\", nrows=60)\n",
    "df_loss = pd.concat([fold1.loss, fold2.loss, fold3.loss, fold4.loss, fold5.loss], axis=1)\n",
    "df_loss = df_loss.median(axis=1)\n",
    "df_val_loss = pd.concat([fold1.val_loss, fold2.val_loss, fold3.val_loss, fold4.val_loss, fold5.val_loss], axis=1)\n",
    "df_val_loss = df_val_loss.median(axis=1)\n",
    "df_final = pd.concat([df_loss, df_val_loss], axis=1)"
   ]
  },
  {
   "cell_type": "code",
   "execution_count": 200,
   "metadata": {},
   "outputs": [
    {
     "data": {
      "image/png": "[encoded data removed]",
      "text/plain": [
       "<Figure size 504x288 with 1 Axes>"
      ]
     },
     "metadata": {
      "needs_background": "light"
     },
     "output_type": "display_data"
    }
   ],
   "source": [
    "length = 1\n",
    "marks=np.arange(0.0,0.1,0.02)\n",
    "\n",
    "df_final = pd.concat([df_loss, df_val_loss], axis=1)\n",
    "df_final.plot(figsize=(7,4), lw=0.9)\n",
    "plt.legend(['Training Loss', 'Validation Loss'])\n",
    "plt.xlabel('Epoch', fontsize=14)\n",
    "plt.ylabel('Huber coefficient', fontsize=14)\n",
    "sns.despine(left=False, bottom=False, top=True, right=True)\n",
    "plt.title('Error - Prediction', fontsize=16)\n",
    "\n",
    "plt.tight_layout()\n",
    "plt.savefig('reg_training_EM.pdf')\n",
    "\n",
    "plt.show()"
   ]
  },
  {
   "cell_type": "markdown",
   "metadata": {},
   "source": [
    "Perform Dice filtering"
   ]
  },
  {
   "cell_type": "code",
   "execution_count": 253,
   "metadata": {},
   "outputs": [
    {
     "data": {
      "text/plain": [
       "0.914446175"
      ]
     },
     "execution_count": 253,
     "metadata": {},
     "output_type": "execute_result"
    }
   ],
   "source": [
    "dice_filtered = dice_val[pred3 > 0.8]\n",
    "dice_filtered.mean()"
   ]
  },
  {
   "cell_type": "code",
   "execution_count": 8,
   "metadata": {},
   "outputs": [
    {
     "data": {
      "text/plain": [
       "0.0016193461415241472"
      ]
     },
     "execution_count": 8,
     "metadata": {},
     "output_type": "execute_result"
    }
   ],
   "source": [
    "df['val_loss'].min()"
   ]
  },
  {
   "cell_type": "markdown",
   "metadata": {},
   "source": [
    "# Evaluation results, folds 1-5"
   ]
  },
  {
   "cell_type": "markdown",
   "metadata": {},
   "source": [
    "## Prediction-uncertainty map pair"
   ]
  },
  {
   "cell_type": "code",
   "execution_count": 48,
   "metadata": {},
   "outputs": [],
   "source": [
    "MAE1 = 0.047973144063495454\n",
    "corr1 = 0.7108146882714351\n",
    "RMSE1 = 0.06387526681375012\n",
    "\n",
    "MAE2 = 0.04033923266274588\n",
    "corr2 = 0.7720850330552527\n",
    "RMSE2 = 0.053359896251671333\n",
    "\n",
    "MAE3 = 0.0378244038536435\n",
    "corr3 = 0.7713863361142241\n",
    "RMSE3 = 0.04763849770047864\n",
    "\n",
    "MAE4 = 0.044984109556107287\n",
    "corr4 = 0.6265191703453622\n",
    "RMSE4 = 0.06021253883364166\n",
    "\n",
    "MAE5 = 0.07183215300242107\n",
    "corr5 = 0.6812766812556742\n",
    "RMSE5 = 0.09136211893869095"
   ]
  },
  {
   "cell_type": "markdown",
   "metadata": {},
   "source": [
    "### Mean MAE across 5 folds"
   ]
  },
  {
   "cell_type": "code",
   "execution_count": 50,
   "metadata": {},
   "outputs": [
    {
     "data": {
      "text/plain": [
       "0.04859060862768264"
      ]
     },
     "execution_count": 50,
     "metadata": {},
     "output_type": "execute_result"
    }
   ],
   "source": [
    "np.mean([MAE1,MAE2,MAE3,MAE4,MAE5])"
   ]
  },
  {
   "cell_type": "markdown",
   "metadata": {},
   "source": [
    "### Mean Pearson correlation coef"
   ]
  },
  {
   "cell_type": "code",
   "execution_count": 52,
   "metadata": {},
   "outputs": [
    {
     "data": {
      "text/plain": [
       "0.7124163818083897"
      ]
     },
     "execution_count": 52,
     "metadata": {},
     "output_type": "execute_result"
    }
   ],
   "source": [
    "np.mean([corr1,corr2,corr3,corr4,corr5])"
   ]
  },
  {
   "cell_type": "markdown",
   "metadata": {},
   "source": [
    "## Image-Prediction pair"
   ]
  },
  {
   "cell_type": "code",
   "execution_count": 53,
   "metadata": {},
   "outputs": [],
   "source": [
    "MAE1 = 0.0478995219366891\n",
    "corr1 = 0.5975494061888778\n",
    "RMSE1 = 0.061796678395252054\n",
    "\n",
    "MAE2 = 0.05082001462663924\n",
    "corr2 = 0.6382564882697399\n",
    "RMSE2 = 0.06296075529198564\n",
    "\n",
    "MAE3 = 0.0538627070517767\n",
    "corr3 = 0.5377275543944673\n",
    "RMSE3 = 0.0709890029899331\n",
    "\n",
    "MAE4 = 0.05355394519170127\n",
    "corr4 = 0.45715001629522256\n",
    "RMSE4 = 0.06861878430438444\n",
    "\n",
    "MAE5 = 0.05712211238770258\n",
    "corr5 = 0.6630077053351241\n",
    "RMSE5 = 0.07376640717749333"
   ]
  },
  {
   "cell_type": "code",
   "execution_count": 54,
   "metadata": {},
   "outputs": [
    {
     "data": {
      "text/plain": [
       "0.052651660238901776"
      ]
     },
     "execution_count": 54,
     "metadata": {},
     "output_type": "execute_result"
    }
   ],
   "source": [
    "# MAE across 5 folds\n",
    "np.mean([MAE1,MAE2,MAE3,MAE4,MAE5])"
   ]
  },
  {
   "cell_type": "code",
   "execution_count": 56,
   "metadata": {},
   "outputs": [
    {
     "data": {
      "text/plain": [
       "0.5787382340966862"
      ]
     },
     "execution_count": 56,
     "metadata": {},
     "output_type": "execute_result"
    }
   ],
   "source": [
    "# CORR\n",
    "np.mean([corr1,corr2,corr3,corr4,corr5])"
   ]
  },
  {
   "cell_type": "markdown",
   "metadata": {},
   "source": [
    "## Error map + Prediction"
   ]
  },
  {
   "cell_type": "code",
   "execution_count": 187,
   "metadata": {},
   "outputs": [
    {
     "data": {
      "text/plain": [
       "0.05930694239298503"
      ]
     },
     "execution_count": 187,
     "metadata": {},
     "output_type": "execute_result"
    }
   ],
   "source": [
    "MAE1 = 0.10213583190554665\n",
    "corr1 = 0.7329076617735331\n",
    "\n",
    "MAE2 = 0.04151175984882173\n",
    "corr2 = 0.7442825211990773\n",
    "\n",
    "MAE3 = 0.03558920226324173\n",
    "corr3 = 0.7638584726870391\n",
    "\n",
    "MAE4 = 0.056916024802979984\n",
    "corr4 = 0.42591081550289556\n",
    "\n",
    "MAE5 = 0.06038189314433508\n",
    "corr5 = 0.7156173387407893\n",
    "\n",
    "# MAE across 5 folds\n",
    "np.mean([MAE1,MAE2,MAE3,MAE4,MAE5])"
   ]
  },
  {
   "cell_type": "code",
   "execution_count": 188,
   "metadata": {},
   "outputs": [
    {
     "data": {
      "text/plain": [
       "0.6765153619806668"
      ]
     },
     "execution_count": 188,
     "metadata": {},
     "output_type": "execute_result"
    }
   ],
   "source": [
    "# CORR across 5 folds\n",
    "np.mean([corr1,corr2,corr3,corr4,corr5])\n"
   ]
  }
 ],
 "metadata": {
  "kernelspec": {
   "display_name": "Python 3",
   "language": "python",
   "name": "python3"
  },
  "language_info": {
   "codemirror_mode": {
    "name": "ipython",
    "version": 3
   },
   "file_extension": ".py",
   "mimetype": "text/x-python",
   "name": "python",
   "nbconvert_exporter": "python",
   "pygments_lexer": "ipython3",
   "version": "3.8.5"
  }
 },
 "nbformat": 4,
 "nbformat_minor": 4
}
