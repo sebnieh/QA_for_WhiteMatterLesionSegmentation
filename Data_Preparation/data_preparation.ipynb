{
 "cells": [
  {
   "cell_type": "markdown",
   "metadata": {},
   "source": [
    "# Data Preparation"
   ]
  },
  {
   "cell_type": "code",
   "execution_count": 1,
   "metadata": {},
   "outputs": [],
   "source": [
    "from matplotlib.colors import  LinearSegmentedColormap\n",
    "from skimage.transform import resize, rescale\n",
    "\n",
    "from skimage import filters\n",
    "import matplotlib.pyplot as plt \n",
    "import utils_prepr as ut\n",
    "from random import randint\n",
    "from scipy import ndimage as nd\n",
    "from skimage import transform\n",
    "import tensorflow as tf\n",
    "import pandas as pd\n",
    "from scipy import ndimage\n",
    "from skimage import filters\n",
    "import nibabel as nib\n",
    "import numpy as np\n",
    "import scipy\n",
    "import os \n",
    "\n",
    "import matplotlib.gridspec as gridspec\n",
    "import random\n",
    "\n",
    "\n",
    "def set_size(w,h, ax=None):\n",
    "    \"\"\" w, h: width, height in inches \"\"\"\n",
    "    if not ax: ax=plt.gca()\n",
    "    l = ax.figure.subplotpars.left\n",
    "    r = ax.figure.subplotpars.right\n",
    "    t = ax.figure.subplotpars.top\n",
    "    b = ax.figure.subplotpars.bottom\n",
    "    figw = float(w)/(r-l)\n",
    "    figh = float(h)/(t-b)\n",
    "    ax.figure.set_size_inches(figw, figh)\n",
    "\n",
    "tran = 0.8\n",
    "colorsM = [(0, 0, 0, 0), (1,  0.30196078,  0., tran), (1  ,  0.39,  0.39, tran)]  # (R,G,B,T)\n",
    "cmap_name = 'my_list'\n",
    "cmc = LinearSegmentedColormap.from_list(cmap_name, colorsM, N=3)\n",
    "\n",
    "\n",
    "cmap = LinearSegmentedColormap.from_list('custom blue', \n",
    "                                             [(0,    '#ffff00'),\n",
    "                                              (0.25, '#002266'),\n",
    "                                              (1,    '#002266')], N=3)"
   ]
  },
  {
   "cell_type": "code",
   "execution_count": 2,
   "metadata": {},
   "outputs": [],
   "source": [
    "# functions and parameters for data loading\n",
    "input_shape = (128, 128, 128, 1)\n",
    "x_dim = input_shape[0] \n",
    "y_dim = input_shape[1]\n",
    "z_dim = input_shape[2]\n",
    "output_classes = 2\n",
    "\n",
    "def norm_label(y):\n",
    "    label = np.copy(y)\n",
    "    for i in range(len(np.unique(label))):\n",
    "        label[label == np.unique(label)[i]] = i\n",
    "    return label\n",
    "\n",
    "def prepare_y(y):\n",
    "    y = norm_label(y)\n",
    "    if output_classes == 2:\n",
    "        y[y>0] = 1\n",
    "    return to_categorical(y, output_classes)\n",
    "\n",
    "def load_file(path_array):\n",
    "        while True:\n",
    "            try:\n",
    "                data_3D = get_data(path_array)\n",
    "                volume = np.array(data_3D)\n",
    "                print(volume.shape)\n",
    "                break\n",
    "            except:\n",
    "                continue\n",
    "        return volume\n",
    "    \n",
    "    \n",
    "def get_data(path_list):\n",
    "    array_temp = []\n",
    "    for j in range(len(path_list)):\n",
    "        img_temp = np.array(nib.load(path_list[j]).dataobj)\n",
    "        array_temp.append(img_temp)\n",
    "    return np.array(array_temp)\n",
    "\n",
    "def get_wmls_path_list(dataset_dir):\n",
    "    image_path_array1, image_path_array2, mask_path_array = [], [], []\n",
    "    for subdir, dirs, files in os.walk(dataset_dir):\n",
    "        for file in files:\n",
    "            file_path = subdir + '/' + file # change to '\\\\' if using Windows\n",
    "            if file_path.endswith(\"03_wmh.nii\"):\n",
    "                mask_path_array.append(file_path)\n",
    "            elif file_path.endswith(\"03_FLAIR.nii\"): # change to '\\\\' if using Windows\n",
    "                image_path_array1.append(file_path)\n",
    "            elif file_path.endswith(\"03_T1.nii\"): # change to '\\\\' if using Windows\n",
    "                image_path_array2.append(file_path)   \n",
    "    return np.array([np.array(image_path_array1),np.array(image_path_array2),np.array(mask_path_array)])"
   ]
  },
  {
   "cell_type": "markdown",
   "metadata": {},
   "source": [
    "# Calculation of the mean mask"
   ]
  },
  {
   "cell_type": "markdown",
   "metadata": {},
   "source": [
    "### MS15"
   ]
  },
  {
   "cell_type": "code",
   "execution_count": 119,
   "metadata": {},
   "outputs": [],
   "source": [
    "\n",
    "def get_wmls_path_list(dataset_dir):\n",
    "    mask1, mask2 = [], []\n",
    "    for subdir, dirs, files in os.walk(dataset_dir):\n",
    "        for file in files:\n",
    "            file_path = subdir + '/' + file # change to '\\\\' if using Windows\n",
    "            if file_path.endswith(\"mask1.nii\"):\n",
    "                mask1.append(file_path)\n",
    "            elif file_path.endswith(\"mask2.nii\"): # change to '\\\\' if using Windows\n",
    "                mask2.append(file_path) \n",
    "    return np.array([np.array(mask1),np.array(mask2)])"
   ]
  },
  {
   "cell_type": "code",
   "execution_count": 120,
   "metadata": {},
   "outputs": [],
   "source": [
    "dataset_dir = '/Users/elena/Documents/data/train/MS15'\n",
    "path_array = get_wmls_path_list(dataset_dir)"
   ]
  },
  {
   "cell_type": "code",
   "execution_count": 121,
   "metadata": {},
   "outputs": [
    {
     "data": {
      "text/plain": [
       "(2, 21)"
      ]
     },
     "execution_count": 121,
     "metadata": {},
     "output_type": "execute_result"
    }
   ],
   "source": [
    "path_array.shape"
   ]
  },
  {
   "cell_type": "code",
   "execution_count": 137,
   "metadata": {},
   "outputs": [
    {
     "data": {
      "text/plain": [
       "'training03_02_mask2.nii'"
      ]
     },
     "execution_count": 137,
     "metadata": {},
     "output_type": "execute_result"
    }
   ],
   "source": [
    "stri = path_array[1,3].split('/')[-1:][0]\n",
    "\n",
    "stri"
   ]
  },
  {
   "cell_type": "code",
   "execution_count": 138,
   "metadata": {},
   "outputs": [
    {
     "data": {
      "text/plain": [
       "'/Users/elena/Documents/data/train/MS15/test/0302/masks'"
      ]
     },
     "execution_count": 138,
     "metadata": {},
     "output_type": "execute_result"
    }
   ],
   "source": [
    "head, tail = os.path.split(path_array[1,3])\n",
    "head"
   ]
  },
  {
   "cell_type": "code",
   "execution_count": 122,
   "metadata": {},
   "outputs": [
    {
     "name": "stdout",
     "output_type": "stream",
     "text": [
      "[0 1]\n",
      "[0.  0.5 1. ]\n"
     ]
    },
    {
     "data": {
      "image/png": "[encoded data removed]",
      "text/plain": [
       "<Figure size 432x288 with 1 Axes>"
      ]
     },
     "metadata": {
      "needs_background": "light"
     },
     "output_type": "display_data"
    },
    {
     "name": "stdout",
     "output_type": "stream",
     "text": [
      "output shape (181, 217, 181)\n",
      "[0 1]\n",
      "[0.  0.5 1. ]\n"
     ]
    },
    {
     "data": {
      "image/png": "[encoded data removed]",
      "text/plain": [
       "<Figure size 432x288 with 1 Axes>"
      ]
     },
     "metadata": {
      "needs_background": "light"
     },
     "output_type": "display_data"
    },
    {
     "name": "stdout",
     "output_type": "stream",
     "text": [
      "output shape (181, 217, 181)\n",
      "[0 1]\n",
      "[0.  0.5 1. ]\n"
     ]
    },
    {
     "data": {
      "image/png": "[encoded data removed]",
      "text/plain": [
       "<Figure size 432x288 with 1 Axes>"
      ]
     },
     "metadata": {
      "needs_background": "light"
     },
     "output_type": "display_data"
    },
    {
     "name": "stdout",
     "output_type": "stream",
     "text": [
      "output shape (181, 217, 181)\n",
      "[0 1]\n",
      "[0.  0.5 1. ]\n"
     ]
    },
    {
     "data": {
      "image/png": "[encoded data removed]",
      "text/plain": [
       "<Figure size 432x288 with 1 Axes>"
      ]
     },
     "metadata": {
      "needs_background": "light"
     },
     "output_type": "display_data"
    },
    {
     "name": "stdout",
     "output_type": "stream",
     "text": [
      "output shape (181, 217, 181)\n",
      "[0 1]\n",
      "[0.  0.5 1. ]\n"
     ]
    },
    {
     "data": {
      "image/png": "[encoded data removed]",
      "text/plain": [
       "<Figure size 432x288 with 1 Axes>"
      ]
     },
     "metadata": {
      "needs_background": "light"
     },
     "output_type": "display_data"
    },
    {
     "name": "stdout",
     "output_type": "stream",
     "text": [
      "output shape (181, 217, 181)\n",
      "[0 1]\n",
      "[0.  0.5 1. ]\n"
     ]
    },
    {
     "data": {
      "image/png": "[encoded data removed]",
      "text/plain": [
       "<Figure size 432x288 with 1 Axes>"
      ]
     },
     "metadata": {
      "needs_background": "light"
     },
     "output_type": "display_data"
    },
    {
     "name": "stdout",
     "output_type": "stream",
     "text": [
      "output shape (181, 217, 181)\n",
      "[0 1]\n",
      "[0.  0.5 1. ]\n"
     ]
    },
    {
     "data": {
      "image/png": "[encoded data removed]",
      "text/plain": [
       "<Figure size 432x288 with 1 Axes>"
      ]
     },
     "metadata": {
      "needs_background": "light"
     },
     "output_type": "display_data"
    },
    {
     "name": "stdout",
     "output_type": "stream",
     "text": [
      "output shape (181, 217, 181)\n",
      "[0 1]\n",
      "[0.  0.5 1. ]\n"
     ]
    },
    {
     "data": {
      "image/png": "[encoded data removed]",
      "text/plain": [
       "<Figure size 432x288 with 1 Axes>"
      ]
     },
     "metadata": {
      "needs_background": "light"
     },
     "output_type": "display_data"
    },
    {
     "name": "stdout",
     "output_type": "stream",
     "text": [
      "output shape (181, 217, 181)\n",
      "[0 1]\n",
      "[0.  0.5 1. ]\n"
     ]
    },
    {
     "data": {
      "image/png": "[encoded data removed]",
      "text/plain": [
       "<Figure size 432x288 with 1 Axes>"
      ]
     },
     "metadata": {
      "needs_background": "light"
     },
     "output_type": "display_data"
    },
    {
     "name": "stdout",
     "output_type": "stream",
     "text": [
      "output shape (181, 217, 181)\n",
      "[0 1]\n",
      "[0.  0.5 1. ]\n"
     ]
    },
    {
     "data": {
      "image/png": "[encoded data removed]",
      "text/plain": [
       "<Figure size 432x288 with 1 Axes>"
      ]
     },
     "metadata": {
      "needs_background": "light"
     },
     "output_type": "display_data"
    },
    {
     "name": "stdout",
     "output_type": "stream",
     "text": [
      "output shape (181, 217, 181)\n",
      "[0 1]\n",
      "[0.  0.5 1. ]\n"
     ]
    },
    {
     "data": {
      "image/png": "[encoded data removed]",
      "text/plain": [
       "<Figure size 432x288 with 1 Axes>"
      ]
     },
     "metadata": {
      "needs_background": "light"
     },
     "output_type": "display_data"
    },
    {
     "name": "stdout",
     "output_type": "stream",
     "text": [
      "output shape (181, 217, 181)\n",
      "[0 1]\n",
      "[0.  0.5 1. ]\n"
     ]
    },
    {
     "data": {
      "image/png": "[encoded data removed]",
      "text/plain": [
       "<Figure size 432x288 with 1 Axes>"
      ]
     },
     "metadata": {
      "needs_background": "light"
     },
     "output_type": "display_data"
    },
    {
     "name": "stdout",
     "output_type": "stream",
     "text": [
      "output shape (181, 217, 181)\n",
      "[0 1]\n",
      "[0.  0.5 1. ]\n"
     ]
    },
    {
     "data": {
      "image/png": "[encoded data removed]",
      "text/plain": [
       "<Figure size 432x288 with 1 Axes>"
      ]
     },
     "metadata": {
      "needs_background": "light"
     },
     "output_type": "display_data"
    },
    {
     "name": "stdout",
     "output_type": "stream",
     "text": [
      "output shape (181, 217, 181)\n",
      "[0 1]\n",
      "[0.  0.5 1. ]\n"
     ]
    },
    {
     "data": {
      "image/png": "[encoded data removed]",
      "text/plain": [
       "<Figure size 432x288 with 1 Axes>"
      ]
     },
     "metadata": {
      "needs_background": "light"
     },
     "output_type": "display_data"
    },
    {
     "name": "stdout",
     "output_type": "stream",
     "text": [
      "output shape (181, 217, 181)\n",
      "[0 1]\n",
      "[0.  0.5 1. ]\n"
     ]
    },
    {
     "data": {
      "image/png": "[encoded data removed]",
      "text/plain": [
       "<Figure size 432x288 with 1 Axes>"
      ]
     },
     "metadata": {
      "needs_background": "light"
     },
     "output_type": "display_data"
    },
    {
     "name": "stdout",
     "output_type": "stream",
     "text": [
      "output shape (181, 217, 181)\n",
      "[0 1]\n",
      "[0.  0.5 1. ]\n"
     ]
    },
    {
     "data": {
      "image/png": "[encoded data removed]",
      "text/plain": [
       "<Figure size 432x288 with 1 Axes>"
      ]
     },
     "metadata": {
      "needs_background": "light"
     },
     "output_type": "display_data"
    },
    {
     "name": "stdout",
     "output_type": "stream",
     "text": [
      "output shape (181, 217, 181)\n",
      "[0 1]\n",
      "[0.  0.5 1. ]\n"
     ]
    },
    {
     "data": {
      "image/png": "[encoded data removed]",
      "text/plain": [
       "<Figure size 432x288 with 1 Axes>"
      ]
     },
     "metadata": {
      "needs_background": "light"
     },
     "output_type": "display_data"
    },
    {
     "name": "stdout",
     "output_type": "stream",
     "text": [
      "output shape (181, 217, 181)\n",
      "[0 1]\n",
      "[0.  0.5 1. ]\n"
     ]
    },
    {
     "data": {
      "image/png": "[encoded data removed]",
      "text/plain": [
       "<Figure size 432x288 with 1 Axes>"
      ]
     },
     "metadata": {
      "needs_background": "light"
     },
     "output_type": "display_data"
    },
    {
     "name": "stdout",
     "output_type": "stream",
     "text": [
      "output shape (181, 217, 181)\n",
      "[0 1]\n",
      "[0.  0.5 1. ]\n"
     ]
    },
    {
     "data": {
      "image/png": "[encoded data removed]",
      "text/plain": [
       "<Figure size 432x288 with 1 Axes>"
      ]
     },
     "metadata": {
      "needs_background": "light"
     },
     "output_type": "display_data"
    },
    {
     "name": "stdout",
     "output_type": "stream",
     "text": [
      "output shape (181, 217, 181)\n",
      "[0 1]\n",
      "[0.  0.5 1. ]\n"
     ]
    },
    {
     "data": {
      "image/png": "[encoded data removed]",
      "text/plain": [
       "<Figure size 432x288 with 1 Axes>"
      ]
     },
     "metadata": {
      "needs_background": "light"
     },
     "output_type": "display_data"
    },
    {
     "name": "stdout",
     "output_type": "stream",
     "text": [
      "output shape (181, 217, 181)\n",
      "[0 1]\n",
      "[0.  0.5 1. ]\n"
     ]
    },
    {
     "data": {
      "image/png": "[encoded data removed]",
      "text/plain": [
       "<Figure size 432x288 with 1 Axes>"
      ]
     },
     "metadata": {
      "needs_background": "light"
     },
     "output_type": "display_data"
    },
    {
     "name": "stdout",
     "output_type": "stream",
     "text": [
      "output shape (181, 217, 181)\n"
     ]
    }
   ],
   "source": [
    "#dataset_dir = '/Users/elena/Documents/data/MS16/TrainingDataset_MSSEG'\n",
    "\n",
    "\n",
    "#%% inference and plots\n",
    "\n",
    "for kk in np.arange(0, path_array.shape[1]):\n",
    "    # Load the data \n",
    "    path = path_array[1,kk].split('/')[-1:][0]\n",
    "    fname = path[8:]\n",
    "    fname = fname[:5]\n",
    "    head, tail = os.path.split(path_array[1,kk])\n",
    "    mask1 = nib.load(path_array[0,kk])\n",
    "    mask1_arr = np.array(mask1.dataobj) \n",
    "    mask2 = nib.load(path_array[1,kk])\n",
    "    mask2_ar = np.array(mask2.dataobj) \n",
    "    print(np.unique(mask2_ar))\n",
    "    \n",
    "    final_mask = (mask2_ar + mask1_arr)/2\n",
    "    print(np.unique(final_mask))\n",
    "    th = 0.5\n",
    "    final_mask[final_mask>=th] = 1\n",
    "    final_mask[final_mask<th] = 0\n",
    "    plt.imshow(final_mask[:,:,85], cmc)\n",
    "    plt.show()\n",
    "     # save results to .nii.gz\n",
    "    output = np.squeeze(final_mask)\n",
    "    output = data = np.uint16(np.round(output))\n",
    "    print('output shape {}'.format(output.shape))\n",
    "    ni_img = nib.Nifti1Image(output, mask2.affine)\n",
    "    nib.save(ni_img, os.path.join(head,'{}_wmh.nii.gz'.format( fname ) ))\n"
   ]
  },
  {
   "cell_type": "markdown",
   "metadata": {},
   "source": [
    "# Calculating Distance"
   ]
  },
  {
   "cell_type": "code",
   "execution_count": 3,
   "metadata": {},
   "outputs": [],
   "source": [
    "\n",
    "def get_wmls_path_list(dataset_dir):\n",
    "    t1, mask = [], []\n",
    "    for subdir, dirs, files in os.walk(dataset_dir):\n",
    "        for file in files:\n",
    "            file_path = subdir + '/' + file # change to '\\\\' if using Windows\n",
    "            if file_path.endswith(\"wmh.nii.gz\"): # change to '\\\\' if using Windows\n",
    "                mask.append(file_path) \n",
    "            elif file_path.endswith(\"T1.nii.gz\"): # change to '\\\\' if using Windows\n",
    "                t1.append(file_path) \n",
    "    return np.array([np.array(mask), np.array(t1)])"
   ]
  },
  {
   "cell_type": "code",
   "execution_count": 6,
   "metadata": {},
   "outputs": [],
   "source": [
    "dataset_dir = '/Users/elena/Documents/data/train'\n",
    "path_array = get_wmls_path_list(dataset_dir)"
   ]
  },
  {
   "cell_type": "code",
   "execution_count": 7,
   "metadata": {},
   "outputs": [
    {
     "data": {
      "text/plain": [
       "(2, 105)"
      ]
     },
     "execution_count": 7,
     "metadata": {},
     "output_type": "execute_result"
    }
   ],
   "source": [
    "path_array.shape"
   ]
  },
  {
   "cell_type": "code",
   "execution_count": 8,
   "metadata": {},
   "outputs": [
    {
     "name": "stdout",
     "output_type": "stream",
     "text": [
      "Volume: 0\n"
     ]
    },
    {
     "name": "stderr",
     "output_type": "stream",
     "text": [
      "/Users/elena/miniconda3/envs/aicuram/lib/python3.7/site-packages/ipykernel_launcher.py:10: DeprecationWarning: get_data() is deprecated in favor of get_fdata(), which has a more predictable return type. To obtain get_data() behavior going forward, use numpy.asanyarray(img.dataobj).\n",
      "\n",
      "* deprecated from version: 3.0\n",
      "* Will raise <class 'nibabel.deprecator.ExpiredDeprecationError'> as of version: 5.0\n",
      "  # Remove the CWD from sys.path while we load stuff.\n",
      "/Users/elena/miniconda3/envs/aicuram/lib/python3.7/site-packages/ipykernel_launcher.py:13: DeprecationWarning: get_data() is deprecated in favor of get_fdata(), which has a more predictable return type. To obtain get_data() behavior going forward, use numpy.asanyarray(img.dataobj).\n",
      "\n",
      "* deprecated from version: 3.0\n",
      "* Will raise <class 'nibabel.deprecator.ExpiredDeprecationError'> as of version: 5.0\n",
      "  del sys.path[0]\n"
     ]
    },
    {
     "name": "stdout",
     "output_type": "stream",
     "text": [
      "21353\n",
      "1532367\n",
      "1.393465142488712\n",
      "Volume: 1\n",
      "3555\n",
      "1580191\n",
      "0.2249728039205387\n",
      "Volume: 2\n",
      "7639\n",
      "1575283\n",
      "0.48492873978834283\n",
      "Volume: 3\n",
      "37222\n",
      "1359589\n",
      "2.7377391255739782\n",
      "Volume: 4\n",
      "5455\n",
      "1371084\n",
      "0.39786037908691224\n",
      "Volume: 5\n",
      "54760\n",
      "6730739\n",
      "0.8135807969971796\n",
      "Volume: 6\n",
      "4664\n",
      "6015559\n",
      "0.07753227921129191\n",
      "Volume: 7\n",
      "14217\n",
      "7504955\n",
      "0.18943484671127275\n",
      "Volume: 8\n",
      "110399\n",
      "6298858\n",
      "1.7526827878958378\n",
      "Volume: 9\n",
      "70294\n",
      "7086349\n",
      "0.9919635626187759\n",
      "Volume: 10\n",
      "7696\n",
      "6301037\n",
      "0.12213862575318953\n",
      "Volume: 11\n",
      "1880\n",
      "7348263\n",
      "0.025584277536065327\n",
      "Volume: 12\n",
      "96818\n",
      "6509113\n",
      "1.487422326206351\n",
      "Volume: 13\n",
      "284194\n",
      "7805848\n",
      "3.640783166671962\n",
      "Volume: 14\n",
      "58392\n",
      "7565025\n",
      "0.7718679052613838\n",
      "Volume: 15\n",
      "9105\n",
      "6770900\n",
      "0.13447252211670532\n",
      "Volume: 16\n",
      "178908\n",
      "7281564\n",
      "2.4569996226085493\n",
      "Volume: 17\n",
      "96427\n",
      "6603505\n",
      "1.4602396757479552\n",
      "Volume: 18\n",
      "285871\n",
      "5917496\n",
      "4.830945386359366\n",
      "Volume: 19\n",
      "47630\n",
      "5981245\n",
      "0.7963225047628044\n",
      "Volume: 20\n",
      "35304\n",
      "7334378\n",
      "0.4813496113780883\n",
      "Volume: 21\n",
      "202632\n",
      "7587779\n",
      "2.670504768259592\n",
      "Volume: 22\n",
      "3732\n",
      "6520285\n",
      "0.05723676189000941\n",
      "Volume: 23\n",
      "6669\n",
      "7879988\n",
      "0.0846321085768151\n",
      "Volume: 24\n",
      "120270\n",
      "7364247\n",
      "1.633160864919387\n",
      "Volume: 25\n",
      "231484\n",
      "8257093\n",
      "2.803456373810977\n",
      "Volume: 26\n",
      "81826\n",
      "6823577\n",
      "1.199165774783519\n",
      "Volume: 27\n",
      "6203\n",
      "6472806\n",
      "0.09583169957511473\n",
      "Volume: 28\n",
      "299351\n",
      "8261754\n",
      "3.6233347059232215\n",
      "Volume: 29\n",
      "8101\n",
      "7883554\n",
      "0.10275822300449772\n",
      "Volume: 30\n",
      "171419\n",
      "6767312\n",
      "2.5330441392387404\n",
      "Volume: 31\n",
      "171691\n",
      "6819740\n",
      "2.5175593204433016\n",
      "Volume: 32\n",
      "76129\n",
      "7500859\n",
      "1.014937089205383\n",
      "Volume: 33\n",
      "133939\n",
      "7375733\n",
      "1.8159415477756582\n",
      "Volume: 34\n",
      "90413\n",
      "6680070\n",
      "1.3534738408429852\n",
      "Volume: 35\n",
      "68247\n",
      "3858658\n",
      "1.7686719061393883\n",
      "Volume: 36\n",
      "3344\n",
      "3929929\n",
      "0.08509059578430042\n",
      "Volume: 37\n",
      "253175\n",
      "4774452\n",
      "5.302702802332079\n",
      "Volume: 38\n",
      "3673\n",
      "3543270\n",
      "0.10366130721057103\n",
      "Volume: 39\n",
      "14219\n",
      "3565949\n",
      "0.39874378461385734\n",
      "Volume: 40\n",
      "106697\n",
      "4908377\n",
      "2.1737735304358243\n",
      "Volume: 41\n",
      "26680\n",
      "3994066\n",
      "0.6679909645959782\n",
      "Volume: 42\n",
      "142052\n",
      "5228131\n",
      "2.7170704024057546\n",
      "Volume: 43\n",
      "79772\n",
      "5445286\n",
      "1.4649735569444837\n",
      "Volume: 44\n",
      "96861\n",
      "3523142\n",
      "2.749278910699597\n",
      "Volume: 45\n",
      "12381\n",
      "378551\n",
      "3.2706293207520254\n",
      "Volume: 46\n",
      "8820\n",
      "450615\n",
      "1.957324989181452\n",
      "Volume: 47\n",
      "6461\n",
      "353382\n",
      "1.828333078651431\n",
      "Volume: 48\n",
      "1239\n",
      "408482\n",
      "0.30331813886536\n",
      "Volume: 49\n",
      "3307\n",
      "378647\n",
      "0.8733728248210073\n",
      "Volume: 50\n",
      "613\n",
      "385825\n",
      "0.1588803213892309\n",
      "Volume: 51\n",
      "632\n",
      "380851\n",
      "0.165944161890083\n",
      "Volume: 52\n",
      "4726\n",
      "501627\n",
      "0.9421342950040568\n",
      "Volume: 53\n",
      "917\n",
      "445340\n",
      "0.20591009116629988\n",
      "Volume: 54\n",
      "548\n",
      "393572\n",
      "0.13923754738650107\n",
      "Volume: 55\n",
      "1784\n",
      "413739\n",
      "0.43118971138809736\n",
      "Volume: 56\n",
      "2269\n",
      "315723\n",
      "0.7186679462693564\n",
      "Volume: 57\n",
      "861\n",
      "404134\n",
      "0.21304814739665556\n",
      "Volume: 58\n",
      "885\n",
      "451404\n",
      "0.1960549751442167\n",
      "Volume: 59\n",
      "2552\n",
      "387498\n",
      "0.6585840443047447\n",
      "Volume: 60\n",
      "448\n",
      "368287\n",
      "0.12164426113330093\n",
      "Volume: 61\n",
      "1638\n",
      "344440\n",
      "0.47555452328417136\n",
      "Volume: 62\n",
      "947\n",
      "394684\n",
      "0.23993878647221573\n",
      "Volume: 63\n",
      "4797\n",
      "358192\n",
      "1.3392258900254612\n",
      "Volume: 64\n",
      "7306\n",
      "397831\n",
      "1.8364581945600016\n",
      "Volume: 65\n",
      "1028\n",
      "443290\n",
      "0.23190236639671546\n",
      "Volume: 66\n",
      "1432\n",
      "432399\n",
      "0.3311756040138853\n",
      "Volume: 67\n",
      "770\n",
      "428646\n",
      "0.17963541010530834\n",
      "Volume: 68\n",
      "19371\n",
      "618281\n",
      "3.133041448791084\n",
      "Volume: 69\n",
      "2900\n",
      "474531\n",
      "0.6111297259820749\n",
      "Volume: 70\n",
      "16906\n",
      "509893\n",
      "3.3155975861602336\n",
      "Volume: 71\n",
      "644\n",
      "477622\n",
      "0.1348346600449728\n",
      "Volume: 72\n",
      "1598\n",
      "476540\n",
      "0.3353338649431317\n",
      "Volume: 73\n",
      "14505\n",
      "405268\n",
      "3.579113080726828\n",
      "Volume: 74\n",
      "546\n",
      "475705\n",
      "0.11477701516696272\n",
      "Volume: 75\n",
      "9021\n",
      "545370\n",
      "1.654106386489906\n",
      "Volume: 76\n",
      "24669\n",
      "452890\n",
      "5.447018039700589\n",
      "Volume: 77\n",
      "27218\n",
      "474547\n",
      "5.735575190655509\n",
      "Volume: 78\n",
      "16601\n",
      "451422\n",
      "3.67749024194656\n",
      "Volume: 79\n",
      "12535\n",
      "441889\n",
      "2.836685230906404\n",
      "Volume: 80\n",
      "332\n",
      "437148\n",
      "0.07594681892631329\n",
      "Volume: 81\n",
      "12764\n",
      "421443\n",
      "3.0286420702206467\n",
      "Volume: 82\n",
      "9644\n",
      "425057\n",
      "2.2688721747906753\n",
      "Volume: 83\n",
      "11859\n",
      "458321\n",
      "2.587487808762854\n",
      "Volume: 84\n",
      "9404\n",
      "475588\n",
      "1.9773417327602885\n",
      "Volume: 85\n",
      "5641\n",
      "447178\n",
      "1.261466351206902\n",
      "Volume: 86\n",
      "6002\n",
      "423960\n",
      "1.4156995943013493\n",
      "Volume: 87\n",
      "3986\n",
      "496033\n",
      "0.8035755685609627\n",
      "Volume: 88\n",
      "8561\n",
      "434795\n",
      "1.9689738842442988\n",
      "Volume: 89\n",
      "20068\n",
      "397809\n",
      "5.0446319716245736\n",
      "Volume: 90\n",
      "5189\n",
      "377819\n",
      "1.3734089603752062\n",
      "Volume: 91\n",
      "5861\n",
      "486958\n",
      "1.2035945605165128\n",
      "Volume: 92\n",
      "5462\n",
      "412138\n",
      "1.3252842494504269\n",
      "Volume: 93\n",
      "9283\n",
      "415456\n",
      "2.2344123084032965\n",
      "Volume: 94\n",
      "543\n",
      "488900\n",
      "0.11106565759869094\n",
      "Volume: 95\n",
      "14788\n",
      "409292\n",
      "3.613068420589701\n",
      "Volume: 96\n",
      "7530\n",
      "505248\n",
      "1.4903572107163214\n",
      "Volume: 97\n",
      "16998\n",
      "481213\n",
      "3.53232352409432\n",
      "Volume: 98\n",
      "20527\n",
      "490497\n",
      "4.184938949677572\n",
      "Volume: 99\n",
      "432\n",
      "481209\n",
      "0.08977388203462529\n",
      "Volume: 100\n",
      "381\n",
      "445912\n",
      "0.08544286765101634\n",
      "Volume: 101\n",
      "1648\n",
      "394872\n",
      "0.41735043254522985\n",
      "Volume: 102\n",
      "965\n",
      "432263\n",
      "0.2232437196799171\n",
      "Volume: 103\n",
      "12146\n",
      "481222\n",
      "2.523991006229973\n",
      "Volume: 104\n",
      "6124\n",
      "480989\n",
      "1.2732099902492573\n"
     ]
    }
   ],
   "source": [
    "path, wml_vol, t1w_vol, wml_perc = [], [], [], []\n",
    "for kk in np.arange(0, path_array.shape[1]):\n",
    "    print(\"Volume:\", kk)\n",
    "    head, tail = os.path.split(path_array[0,kk])\n",
    "    path.append(head)\n",
    "    # Load the data\n",
    "    lab = nib.load(path_array[0,kk])\n",
    "    label_ar = np.array(lab.dataobj) \n",
    "    t1 = nib.load(path_array[1,kk])\n",
    "    t1_ar = np.array(t1.dataobj) \n",
    "    # Sum the voxels segmentation map volume\n",
    "    lab_vol = np.sum(lab.get_data() > 0) \n",
    "    print(lab_vol)\n",
    "    wml_vol.append(lab_vol)\n",
    "    # Sum the voxels T1 volume\n",
    "    t1_vol = np.sum(t1.get_data() > 0)\n",
    "    print(t1_vol)\n",
    "    t1w_vol.append(t1_vol)\n",
    "    # Calculate the WMH volume percentage from the brain volume\n",
    "    perc = lab_vol/t1_vol*100\n",
    "    print(perc)\n",
    "    wml_perc.append(perc)\n",
    "    \n",
    "path = np.array(path)\n",
    "wml_vol = np.array(wml_vol)\n",
    "t1w_vol = np.array(t1w_vol) \n",
    "wml_perc = np.array(wml_perc)"
   ]
  },
  {
   "cell_type": "code",
   "execution_count": 9,
   "metadata": {},
   "outputs": [],
   "source": [
    "df = pd.DataFrame([path, wml_vol, t1w_vol, wml_perc])"
   ]
  },
  {
   "cell_type": "code",
   "execution_count": 10,
   "metadata": {},
   "outputs": [],
   "source": [
    "df = df.T\n",
    "df.columns = ['path_id', 'wml_vol', 't1_vol', 'wml_perc']"
   ]
  },
  {
   "cell_type": "code",
   "execution_count": 12,
   "metadata": {},
   "outputs": [
    {
     "name": "stdout",
     "output_type": "stream",
     "text": [
      "1.483011922708886\n"
     ]
    }
   ],
   "source": [
    "MEAN = df['wml_perc'].mean()\n",
    "print(MEAN)"
   ]
  },
  {
   "cell_type": "code",
   "execution_count": 13,
   "metadata": {},
   "outputs": [
    {
     "name": "stdout",
     "output_type": "stream",
     "text": [
      "1.4099332640062099\n"
     ]
    }
   ],
   "source": [
    "SD = df['wml_perc'].std()\n",
    "print(SD)"
   ]
  },
  {
   "cell_type": "markdown",
   "metadata": {},
   "source": [
    "Using the formula provided by Dr Maria del C. Valdés Hernández, I calculated the distance from the mean"
   ]
  },
  {
   "cell_type": "code",
   "execution_count": 14,
   "metadata": {},
   "outputs": [
    {
     "data": {
      "text/plain": [
       "0      0.004034\n",
       "1      0.796143\n",
       "2      0.501114\n",
       "3      0.791957\n",
       "4      0.592357\n",
       "         ...   \n",
       "100    0.982538\n",
       "101    0.571270\n",
       "102    0.798333\n",
       "103    0.545113\n",
       "104    0.022142\n",
       "Name: dist, Length: 105, dtype: float64"
      ]
     },
     "execution_count": 14,
     "metadata": {},
     "output_type": "execute_result"
    }
   ],
   "source": [
    "df['dist'] = ((MEAN - df['wml_perc'])**2/SD**2).astype(float)\n",
    "df['dist'] "
   ]
  },
  {
   "cell_type": "code",
   "execution_count": 15,
   "metadata": {},
   "outputs": [
    {
     "name": "stderr",
     "output_type": "stream",
     "text": [
      "/Users/elena/miniconda3/envs/aicuram/lib/python3.7/site-packages/statsmodels/tools/_testing.py:19: FutureWarning: pandas.util.testing is deprecated. Use the functions in the public API at pandas.testing instead.\n",
      "  import pandas.util.testing as tm\n"
     ]
    },
    {
     "data": {
      "image/png": "[encoded data removed]",
      "text/plain": [
       "<Figure size 929.032x476.821 with 1 Axes>"
      ]
     },
     "metadata": {
      "needs_background": "light"
     },
     "output_type": "display_data"
    }
   ],
   "source": [
    "import seaborn as sns\n",
    "\n",
    "ax = sns.boxplot(x=df[\"dist\"]) \n",
    "\n",
    "ax.set(xlabel='dist')\n",
    "set_size(10,5)\n",
    "plt.title(r'Box plot: dist')\n",
    "\n",
    "plt.show()"
   ]
  },
  {
   "cell_type": "code",
   "execution_count": 16,
   "metadata": {},
   "outputs": [
    {
     "data": {
      "text/plain": [
       "count    105.000000\n",
       "mean       0.990476\n",
       "std        1.570184\n",
       "min        0.000010\n",
       "25%        0.147164\n",
       "50%        0.667397\n",
       "75%        0.957089\n",
       "max        9.097131\n",
       "Name: dist, dtype: float64"
      ]
     },
     "execution_count": 16,
     "metadata": {},
     "output_type": "execute_result"
    }
   ],
   "source": [
    "df['dist'].describe()\n"
   ]
  },
  {
   "cell_type": "code",
   "execution_count": 17,
   "metadata": {},
   "outputs": [],
   "source": [
    "df.to_csv('wml_dist.csv', index=False)"
   ]
  }
 ],
 "metadata": {
  "kernelspec": {
   "display_name": "Python 3",
   "language": "python",
   "name": "python3"
  },
  "language_info": {
   "codemirror_mode": {
    "name": "ipython",
    "version": 3
   },
   "file_extension": ".py",
   "mimetype": "text/x-python",
   "name": "python",
   "nbconvert_exporter": "python",
   "pygments_lexer": "ipython3",
   "version": "3.8.5"
  }
 },
 "nbformat": 4,
 "nbformat_minor": 4
}
