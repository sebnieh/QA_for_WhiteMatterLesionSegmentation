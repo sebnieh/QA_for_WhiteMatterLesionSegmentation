{
 "cells": [
  {
   "cell_type": "code",
   "execution_count": 1,
   "id": "fifty-assessment",
   "metadata": {},
   "outputs": [],
   "source": [
    "'''\n",
    "Performs evaluation of aggregated VS measure and Dice prediction QC technique.\n",
    "'''\n",
    "from tensorflow.keras.models import load_model\n",
    "from sklearn.metrics import mean_absolute_error, confusion_matrix\n",
    "#import utils as ut\n",
    "import scikits.bootstrap as boot\n",
    "import numpy as np\n",
    "import random\n",
    "import pickle\n",
    "import os \n",
    "import tensorflow as tf\n",
    "import scipy.stats\n",
    "\n",
    "def rescale(data, max=255):\n",
    "    '''\n",
    "    rescale array to [0 max]\n",
    "    '''\n",
    "    \n",
    "    data = data-np.min(np.ravel(data))\n",
    "    data = max* (data/np.max(np.ravel(data)))\n",
    "    return data\n",
    "\n",
    "import numpy as np; np.random.seed(42)\n",
    "import pandas as pd\n",
    "import matplotlib.pyplot as plt\n",
    "import seaborn as sns\n"
   ]
  },
  {
   "cell_type": "markdown",
   "id": "elementary-blind",
   "metadata": {},
   "source": [
    "# With N segmentations detected"
   ]
  },
  {
   "cell_type": "markdown",
   "id": "motivated-barrel",
   "metadata": {},
   "source": [
    "## VS filtering"
   ]
  },
  {
   "cell_type": "code",
   "execution_count": 28,
   "id": "animated-tobacco",
   "metadata": {},
   "outputs": [
    {
     "name": "stdout",
     "output_type": "stream",
     "text": [
      "UNCERTAINTY MAPS...\n",
      "MEAN Dice BEFORE filtering: + CI 0.84 0.8258 0.859\n",
      "MEAN Dice AFTER filtering + CI: 0.8504 0.84 0.863\n",
      "MEAN Precision + CI: 0.9297 0.8961 0.9757\n",
      "MEAN Recall + CI: 0.8874 0.8397 0.9246\n",
      "MEAN N observation AFTER filtering: 3.1999999999999993\n",
      "MEAN Correlation + CI: 0.5219 0.4211 0.6129\n"
     ]
    },
    {
     "data": {
      "image/png": "[encoded data removed]",
      "text/plain": [
       "<Figure size 432x288 with 1 Axes>"
      ]
     },
     "metadata": {
      "needs_background": "light"
     },
     "output_type": "display_data"
    },
    {
     "name": "stdout",
     "output_type": "stream",
     "text": [
      "ERROR MAPS...\n",
      "MEAN Dice BEFORE filtering: + CI 0.84 0.8258 0.859\n",
      "MEAN Dice AFTER filtering + CI: 0.8286 0.8201 0.8371\n"
     ]
    },
    {
     "name": "stderr",
     "output_type": "stream",
     "text": [
      "<ipython-input-28-6146e31256da>:102: InstabilityWarning: Some values used top 10 low/high samples; results may be unstable.\n",
      "  lci_pr, uci_pr = boot.ci(pres, np.mean)\n"
     ]
    },
    {
     "name": "stdout",
     "output_type": "stream",
     "text": [
      "MEAN Precision + CI: 0.95 0.875 0.975\n",
      "MEAN Recall + CI: 0.8077 0.7678 0.8667\n",
      "MEAN N observation AFTER filtering: 2.8000000000000007\n",
      "MEAN Correlation + CI: -0.2517 -0.3571 -0.1154\n"
     ]
    },
    {
     "data": {
      "image/png": "[encoded data removed]",
      "text/plain": [
       "<Figure size 432x288 with 1 Axes>"
      ]
     },
     "metadata": {
      "needs_background": "light"
     },
     "output_type": "display_data"
    }
   ],
   "source": [
    "data_path = '/Users/elena.williams/reg_net/'\n",
    "\n",
    "\n",
    "############################################### UNCERTAINTY ###############################################\n",
    "\n",
    "print('UNCERTAINTY MAPS...')\n",
    "final_res, m_Dice, n_obs, corr, rec, pres = [], [], [], [], [], []    \n",
    "for i in np.arange(1,6):\n",
    "    with open(data_path+str(i)+'entropy_unc_test.pkl', 'rb') as f:\n",
    "        entropy_map_t = pickle.load(f)\n",
    "    entropy_map_t = entropy_map_t[:,:,:,:,1]\n",
    "    entropy_map_t = rescale(entropy_map_t, max=1)\n",
    "    dice_test = np.loadtxt(data_path+str(i)+'dice_test.txt', dtype=float)\n",
    "    dice_test = np.around(dice_test, decimals=4)\n",
    "    unc_sum = []\n",
    "    for k in np.arange(0,21):\n",
    "        value = (np.sum(entropy_map_t[k,:,:,:]))\n",
    "        unc_sum.append(value)\n",
    "    unc_sum = np.array(unc_sum)\n",
    "    coef = np.array(scipy.stats.pearsonr(dice_test, unc_sum))\n",
    "    dice_filtered = dice_test[unc_sum > 1100]\n",
    "    #print(true_dice_failed.shape)\n",
    "    fake = unc_sum < 1100\n",
    "    true = dice_test < 0.75\n",
    "    TP, FP, FN, TN = confusion_matrix(true, fake).ravel()\n",
    "    precision = TP/(TP+FP)\n",
    "    recall = TP/(TP+FN)\n",
    "    n = dice_filtered.shape\n",
    "    median_dice_f = np.median(dice_filtered)\n",
    "    final_res.append(median_dice_f)\n",
    "    m_Dice.append(np.median(dice_test))\n",
    "    corr.append(coef[0])\n",
    "    n_obs.append(n)\n",
    "    pres.append(precision)\n",
    "    rec.append(recall)\n",
    "\n",
    "    \n",
    "final_res = np.array(final_res)\n",
    "lci_fil, uci_fil = boot.ci(final_res, np.mean)\n",
    "m_Dice = np.array(m_Dice)\n",
    "lci_b, uci_b = boot.ci(m_Dice, np.mean)\n",
    "print('MEAN Dice BEFORE filtering: + CI', np.round(np.mean(m_Dice),4), np.round(lci_b,4), np.round(uci_b,4))\n",
    "print('MEAN Dice AFTER filtering + CI:', np.round(np.mean(final_res),4), np.round(lci_fil,4), np.round(uci_fil,4))\n",
    "pres = np.array(pres)\n",
    "lci_pr, uci_pr = boot.ci(pres, np.mean)\n",
    "print('MEAN Precision + CI:', np.round(np.mean(pres),4), np.round(lci_pr,4), np.round(uci_pr,4))\n",
    "rec = np.array(rec)\n",
    "lci_rec, uci_rec = boot.ci(rec, np.mean)\n",
    "print('MEAN Recall + CI:', np.round(np.mean(rec),4), np.round(lci_rec,4), np.round(uci_rec,4))\n",
    "n_obs = np.array(n_obs)\n",
    "#lci_n, uci_n = boot.ci(n_obs, np.mean)\n",
    "print('MEAN N observation AFTER filtering:', 21-np.mean(n_obs))\n",
    "\n",
    "corr = np.array(corr)\n",
    "lci_corr, uci_corr = boot.ci(corr, np.mean)\n",
    "print('MEAN Correlation + CI:', np.round(np.mean(corr),4), np.round(lci_corr,4), np.round(uci_corr,4))\n",
    "############################################### ERROR  ###############################################\n",
    "df = pd.DataFrame(data = [final_res, pres, rec, 21-n_obs.squeeze(), corr])\n",
    "df = df.T\n",
    "df.columns = ['Dice_after','Precision','Recall','N_detected', 'Corr']\n",
    "sns.boxplot(x=\"variable\", y=\"value\", data=pd.melt(df))\n",
    "plt.title('QC performance of VS method: Uncertainty maps')\n",
    "\n",
    "plt.show()\n",
    "\n",
    "print('ERROR MAPS...')\n",
    "final_res, m_Dice, n_obs, corr, rec, pres = [], [], [], [], [], []    \n",
    "for i in np.arange(1,6):\n",
    "    with open(data_path+str(i)+'em.pkl', 'rb') as f:\n",
    "        em = pickle.load(f)\n",
    "    em = np.squeeze(em)\n",
    "    dice_test = np.loadtxt(data_path+str(i)+'dice_test.txt', dtype=float)\n",
    "    dice_test = np.around(dice_test, decimals=4)\n",
    "    em_sum = []\n",
    "    for k in np.arange(0,21):\n",
    "        value = (np.sum(em[k,:,:,:]))\n",
    "        em_sum.append(value)\n",
    "    em_sum = np.array(em_sum)\n",
    "    coef = np.array(scipy.stats.pearsonr(dice_test, em_sum))\n",
    "    dice_filtered = dice_test[em_sum > -50000]\n",
    "    fake = em_sum < -100000\n",
    "    true = dice_test < 0.75\n",
    "    TP, FP, FN, TN = confusion_matrix(true, fake).ravel()\n",
    "    precision = TP/(TP+FP)\n",
    "    recall = TP/(TP+FN)\n",
    "    n = dice_filtered.shape\n",
    "    median_dice_f = np.median(dice_filtered)\n",
    "    final_res.append(median_dice_f)\n",
    "    m_Dice.append(np.median(dice_test))\n",
    "    corr.append(coef[0])\n",
    "    n_obs.append(n)\n",
    "    pres.append(precision)\n",
    "    rec.append(recall)\n",
    "    \n",
    "final_res = np.array(final_res)\n",
    "lci_fil, uci_fil = boot.ci(final_res, np.mean)\n",
    "m_Dice = np.array(m_Dice)\n",
    "lci_b, uci_b = boot.ci(m_Dice, np.mean)\n",
    "print('MEAN Dice BEFORE filtering: + CI', np.round(np.mean(m_Dice),4), np.round(lci_b,4), np.round(uci_b,4))\n",
    "print('MEAN Dice AFTER filtering + CI:', np.round(np.mean(final_res),4), np.round(lci_fil,4), np.round(uci_fil,4))\n",
    "pres = np.array(pres)\n",
    "lci_pr, uci_pr = boot.ci(pres, np.mean)\n",
    "print('MEAN Precision + CI:', np.round(np.mean(pres),4), np.round(lci_pr,4), np.round(uci_pr,4))\n",
    "rec = np.array(rec)\n",
    "lci_rec, uci_rec = boot.ci(rec, np.mean)\n",
    "print('MEAN Recall + CI:', np.round(np.mean(rec),4), np.round(lci_rec,4), np.round(uci_rec,4))\n",
    "n_obs = np.array(n_obs)\n",
    "#lci_n, uci_n = boot.ci(n_obs, np.mean)\n",
    "print('MEAN N observation AFTER filtering:', 21-np.mean(n_obs))\n",
    "\n",
    "corr = np.array(corr)\n",
    "lci_corr, uci_corr = boot.ci(corr, np.mean)\n",
    "print('MEAN Correlation + CI:', np.round(np.mean(corr),4), np.round(lci_corr,4), np.round(uci_corr,4))\n",
    "df = pd.DataFrame(data = [final_res, pres, rec, 21-n_obs.squeeze(), corr])\n",
    "df = df.T\n",
    "df.columns = ['Dice_after','Precision','Recall','N_detected', 'Corr']\n",
    "sns.boxplot(x=\"variable\", y=\"value\", data=pd.melt(df))\n",
    "plt.title('QC performance of VS method: Error maps')\n",
    "\n",
    "plt.show()"
   ]
  },
  {
   "cell_type": "markdown",
   "id": "prostate-dialogue",
   "metadata": {},
   "source": [
    "## Regression method"
   ]
  },
  {
   "cell_type": "code",
   "execution_count": 29,
   "id": "upper-shock",
   "metadata": {},
   "outputs": [
    {
     "name": "stdout",
     "output_type": "stream",
     "text": [
      "IMAGE - PREDICTION MAPS...\n",
      "MEAN Dice BEFORE filtering: + CI 0.84 0.8269 0.859\n",
      "MEAN Dice AFTER filtering + CI: 0.8482 0.8365 0.8612\n",
      "MEAN Precision + CI: 0.9054 0.8 0.9765\n",
      "MEAN Recall + CI: 0.8373 0.8038 0.8758\n",
      "MEAN N observation AFTER filtering: 2.6000000000000014\n",
      "MEAN Correlation + CI: 0.5724 0.4983 0.6287\n",
      "MEAN MAE + CI: 0.0537 0.0523 0.0557\n"
     ]
    },
    {
     "data": {
      "image/png": "[encoded data removed]",
      "text/plain": [
       "<Figure size 432x288 with 1 Axes>"
      ]
     },
     "metadata": {
      "needs_background": "light"
     },
     "output_type": "display_data"
    },
    {
     "name": "stdout",
     "output_type": "stream",
     "text": [
      "UNCERTAINTY - PREDICTION MAPS...\n",
      "MEAN Dice BEFORE filtering: + CI 0.84 0.8258 0.859\n",
      "MEAN Dice AFTER filtering + CI: 0.8525 0.8396 0.8654\n"
     ]
    },
    {
     "name": "stderr",
     "output_type": "stream",
     "text": [
      "<ipython-input-29-ee5a550b0239>:96: InstabilityWarning: Some values used extremal samples; results are probably unstable.\n",
      "  lci_pr, uci_pr = boot.ci(pres, np.mean)\n"
     ]
    },
    {
     "name": "stdout",
     "output_type": "stream",
     "text": [
      "MEAN Precision + CI: 0.9684 0.8421 1.0\n",
      "MEAN Recall + CI: 0.8667 0.7714 0.9524\n",
      "MEAN N observation AFTER filtering: 1.8000000000000007\n",
      "MEAN Correlation + CI: 0.7124 0.6543 0.7536\n",
      "MEAN MAE + CI: 0.0486 0.0412 0.0623\n"
     ]
    },
    {
     "data": {
      "image/png": "[encoded data removed]",
      "text/plain": [
       "<Figure size 432x288 with 1 Axes>"
      ]
     },
     "metadata": {
      "needs_background": "light"
     },
     "output_type": "display_data"
    },
    {
     "name": "stdout",
     "output_type": "stream",
     "text": [
      "ERROR - PREDICTION MAPS...\n",
      "MEAN Dice BEFORE filtering: + CI 0.84 0.8268 0.859\n",
      "MEAN Dice AFTER filtering + CI: 0.8605 0.8401 0.8744\n",
      "MEAN Precision + CI: 0.826 0.4142 0.9672\n",
      "MEAN Recall + CI: 0.8679 0.7981 0.9556\n",
      "MEAN N observation AFTER filtering: 4.800000000000001\n",
      "MEAN Correlation + CI: 0.6765 0.4873 0.7441\n",
      "MEAN MAE + CI: 0.0593 0.0441 0.0854\n"
     ]
    },
    {
     "data": {
      "image/png": "[encoded data removed]",
      "text/plain": [
       "<Figure size 432x288 with 1 Axes>"
      ]
     },
     "metadata": {
      "needs_background": "light"
     },
     "output_type": "display_data"
    }
   ],
   "source": [
    "data_path = '/Users/elena.williams/reg_net/'\n",
    "\n",
    "res_path = '/Users/elena.williams/res/'\n",
    "\n",
    "############################################### IMAGE - PREDICTION ###############################################\n",
    "\n",
    "print('IMAGE - PREDICTION MAPS...')\n",
    "final_res, m_Dice, n_obs, pres, rec, corr, mae = [], [], [], [], [], [], []    \n",
    "for i in np.arange(1,6):\n",
    "    dice_test = np.loadtxt(data_path+str(i)+'dice_test.txt', dtype=float)\n",
    "    dice_test = np.around(dice_test, decimals=4)\n",
    "    pred = np.loadtxt(res_path+str(i)+'predictions_IP.txt', dtype=float)\n",
    "    coef = np.loadtxt(res_path+str(i)+'corr_IP.txt', dtype=float)\n",
    "    error = np.loadtxt(res_path+str(i)+'mae_IP.xt', dtype=float)\n",
    "    dice_filtered = dice_test[pred > 0.75]\n",
    "    fake = pred < 0.75\n",
    "    true = dice_test < 0.75\n",
    "    TP, FP, FN, TN = confusion_matrix(true, fake).ravel()\n",
    "    precision = TP/(TP+FP)\n",
    "    recall = TP/(TP+FN)\n",
    "    n = dice_filtered.shape\n",
    "    median_dice_f = np.median(dice_filtered)\n",
    "    final_res.append(median_dice_f)\n",
    "    m_Dice.append(np.median(dice_test))\n",
    "    n_obs.append(n)\n",
    "    pres.append(precision)\n",
    "    rec.append(recall)\n",
    "    corr.append(coef[0])\n",
    "    mae.append(error)\n",
    "\n",
    "\n",
    "final_res = np.array(final_res)\n",
    "lci_fil, uci_fil = boot.ci(final_res, np.mean)\n",
    "m_Dice = np.array(m_Dice)\n",
    "lci_b, uci_b = boot.ci(m_Dice, np.mean)\n",
    "print('MEAN Dice BEFORE filtering: + CI', np.round(np.mean(m_Dice),4), np.round(lci_b,4), np.round(uci_b,4))\n",
    "print('MEAN Dice AFTER filtering + CI:', np.round(np.mean(final_res),4), np.round(lci_fil,4), np.round(uci_fil,4))\n",
    "pres = np.array(pres)\n",
    "lci_pr, uci_pr = boot.ci(pres, np.mean)\n",
    "print('MEAN Precision + CI:', np.round(np.mean(pres),4), np.round(lci_pr,4), np.round(uci_pr,4))\n",
    "rec = np.array(rec)\n",
    "lci_rec, uci_rec = boot.ci(rec, np.mean)\n",
    "print('MEAN Recall + CI:', np.round(np.mean(rec),4), np.round(lci_rec,4), np.round(uci_rec,4))\n",
    "n_obs = np.array(n_obs)\n",
    "#lci_n, uci_n = boot.ci(n_obs, np.mean)\n",
    "print('MEAN N observation AFTER filtering:', 21-np.mean(n_obs))\n",
    "\n",
    "corr = np.array(corr)\n",
    "lci_corr, uci_corr = boot.ci(corr, np.mean)\n",
    "print('MEAN Correlation + CI:', np.round(np.mean(corr),4), np.round(lci_corr,4), np.round(uci_corr,4))\n",
    "mae = np.array(mae)\n",
    "lci_mae, uci_mae = boot.ci(mae, np.mean)\n",
    "print('MEAN MAE + CI:', np.round(np.mean(mae),4), np.round(lci_mae,4), np.round(uci_mae,4))\n",
    "\n",
    "df = pd.DataFrame(data = [final_res, pres, rec, 21-n_obs.squeeze(), corr, mae])\n",
    "df = df.T\n",
    "df.columns = ['Dice_after','Precision','Recall','N_detected', 'Corr', 'MAE']\n",
    "sns.boxplot(x=\"variable\", y=\"value\", data=pd.melt(df))\n",
    "plt.title('QC performance of Regression method: Image-Prediction pair')\n",
    "\n",
    "plt.show()\n",
    "############################################### UNCERTAINTY - PREDICTION ###############################################\n",
    "\n",
    "print('UNCERTAINTY - PREDICTION MAPS...')\n",
    "final_res, m_Dice, n_obs, pres, rec, corr, mae = [], [], [], [], [], [], []    \n",
    "for i in np.arange(1,6):\n",
    "    dice_test = np.loadtxt(data_path+str(i)+'dice_test.txt', dtype=float)\n",
    "    dice_test = np.around(dice_test, decimals=4)\n",
    "    pred = np.loadtxt(res_path+str(i)+'predictions_PE.txt', dtype=float)\n",
    "    coef = np.loadtxt(res_path+str(i)+'corr_PE.txt', dtype=float)\n",
    "    error = np.loadtxt(res_path+str(i)+'mae_PE.txt', dtype=float)\n",
    "    dice_filtered = dice_test[pred > 0.75]\n",
    "    fake = pred < 0.75\n",
    "    true = dice_test < 0.75\n",
    "    TP, FP, FN, TN = confusion_matrix(true, fake).ravel()\n",
    "    precision = TP/(TP+FP)\n",
    "    recall = TP/(TP+FN)\n",
    "    n = dice_filtered.shape\n",
    "    median_dice_f = np.median(dice_filtered)\n",
    "    final_res.append(median_dice_f)\n",
    "    m_Dice.append(np.median(dice_test))\n",
    "    n_obs.append(n)\n",
    "    pres.append(precision)\n",
    "    rec.append(recall)\n",
    "    corr.append(coef[0])\n",
    "    mae.append(error)\n",
    "\n",
    "    \n",
    "final_res = np.array(final_res)\n",
    "lci_fil, uci_fil = boot.ci(final_res, np.mean)\n",
    "m_Dice = np.array(m_Dice)\n",
    "lci_b, uci_b = boot.ci(m_Dice, np.mean)\n",
    "print('MEAN Dice BEFORE filtering: + CI', np.round(np.mean(m_Dice),4), np.round(lci_b,4), np.round(uci_b,4))\n",
    "print('MEAN Dice AFTER filtering + CI:', np.round(np.mean(final_res),4), np.round(lci_fil,4), np.round(uci_fil,4))\n",
    "pres = np.array(pres)\n",
    "lci_pr, uci_pr = boot.ci(pres, np.mean)\n",
    "print('MEAN Precision + CI:', np.round(np.mean(pres),4), np.round(lci_pr,4), np.round(uci_pr,4))\n",
    "rec = np.array(rec)\n",
    "lci_rec, uci_rec = boot.ci(rec, np.mean)\n",
    "print('MEAN Recall + CI:', np.round(np.mean(rec),4), np.round(lci_rec,4), np.round(uci_rec,4))\n",
    "n_obs = np.array(n_obs)\n",
    "#lci_n, uci_n = boot.ci(n_obs, np.mean)\n",
    "print('MEAN N observation AFTER filtering:', 21-np.mean(n_obs))\n",
    "\n",
    "corr = np.array(corr)\n",
    "lci_corr, uci_corr = boot.ci(corr, np.mean)\n",
    "print('MEAN Correlation + CI:', np.round(np.mean(corr),4), np.round(lci_corr,4), np.round(uci_corr,4))\n",
    "mae = np.array(mae)\n",
    "lci_mae, uci_mae = boot.ci(mae, np.mean)\n",
    "print('MEAN MAE + CI:', np.round(np.mean(mae),4), np.round(lci_mae,4), np.round(uci_mae,4))\n",
    "df = pd.DataFrame(data = [final_res, pres, rec, 21-n_obs.squeeze(), corr, mae])\n",
    "df = df.T\n",
    "df.columns = ['Dice_after','Precision','Recall','N_detected', 'Corr', 'MAE']\n",
    "sns.boxplot(x=\"variable\", y=\"value\", data=pd.melt(df))\n",
    "plt.title('QC performance of Regression method: Uncertainty-Prediction pair')\n",
    "\n",
    "plt.show()\n",
    "############################################### ERROR - PREDICTION ###############################################\n",
    "\n",
    "\n",
    "print('ERROR - PREDICTION MAPS...')\n",
    "final_res, m_Dice, n_obs, pres, rec, corr, mae = [], [], [], [], [], [], []    \n",
    "for i in np.arange(1,6):\n",
    "    dice_test = np.loadtxt(data_path+str(i)+'dice_test.txt', dtype=float)\n",
    "    dice_test = np.around(dice_test, decimals=4)\n",
    "    pred = np.loadtxt(res_path+str(i)+'predictions_em.txt', dtype=float)\n",
    "    coef = np.loadtxt(res_path+str(i)+'corr_em.txt', dtype=float)\n",
    "    error = np.loadtxt(res_path+str(i)+'mae_em.txt', dtype=float)\n",
    "    dice_filtered = dice_test[pred > 0.75]\n",
    "    n = dice_filtered.shape\n",
    "    true_dice_failed = dice_test[dice_test < 0.75]\n",
    "    fake = pred < 0.75\n",
    "    true = dice_test < 0.75\n",
    "    TP, FP, FN, TN = confusion_matrix(true, fake).ravel()\n",
    "    precision = TP/(TP+FP)\n",
    "    recall = TP/(TP+FN)\n",
    "    n = dice_filtered.shape\n",
    "    median_dice_f = np.median(dice_filtered)\n",
    "    final_res.append(median_dice_f)\n",
    "    m_Dice.append(np.median(dice_test))\n",
    "    n_obs.append(n)\n",
    "    pres.append(precision)\n",
    "    rec.append(recall)\n",
    "    corr.append(coef[0])\n",
    "    mae.append(error)\n",
    "    \n",
    "final_res = np.array(final_res)\n",
    "lci_fil, uci_fil = boot.ci(final_res, np.mean)\n",
    "m_Dice = np.array(m_Dice)\n",
    "lci_b, uci_b = boot.ci(m_Dice, np.mean)\n",
    "print('MEAN Dice BEFORE filtering: + CI', np.round(np.mean(m_Dice),4), np.round(lci_b,4), np.round(uci_b,4))\n",
    "print('MEAN Dice AFTER filtering + CI:', np.round(np.mean(final_res),4), np.round(lci_fil,4), np.round(uci_fil,4))\n",
    "pres = np.array(pres)\n",
    "lci_pr, uci_pr = boot.ci(pres, np.mean)\n",
    "print('MEAN Precision + CI:', np.round(np.mean(pres),4), np.round(lci_pr,4), np.round(uci_pr,4))\n",
    "rec = np.array(rec)\n",
    "lci_rec, uci_rec = boot.ci(rec, np.mean)\n",
    "print('MEAN Recall + CI:', np.round(np.mean(rec),4), np.round(lci_rec,4), np.round(uci_rec,4))\n",
    "n_obs = np.array(n_obs)\n",
    "#lci_n, uci_n = boot.ci(n_obs, np.mean)\n",
    "print('MEAN N observation AFTER filtering:', 21-np.mean(n_obs))\n",
    "\n",
    "corr = np.array(corr)\n",
    "lci_corr, uci_corr = boot.ci(corr, np.mean)\n",
    "print('MEAN Correlation + CI:', np.round(np.mean(corr),4), np.round(lci_corr,4), np.round(uci_corr,4))\n",
    "mae = np.array(mae)\n",
    "lci_mae, uci_mae = boot.ci(mae, np.mean)\n",
    "print('MEAN MAE + CI:', np.round(np.mean(mae),4), np.round(lci_mae,4), np.round(uci_mae,4))\n",
    "df = pd.DataFrame(data = [final_res, pres, rec, 21-n_obs.squeeze(), corr, mae])\n",
    "df = df.T\n",
    "df.columns = ['Dice_after','Precision','Recall','N_detected', 'Corr', 'MAE']\n",
    "sns.boxplot(x=\"variable\", y=\"value\", data=pd.melt(df))\n",
    "plt.title('QC performance of Regression method: Error-Prediction pair')\n",
    "\n",
    "plt.show()"
   ]
  },
  {
   "cell_type": "markdown",
   "id": "paperback-formula",
   "metadata": {},
   "source": [
    "# Without N segmentations detected"
   ]
  },
  {
   "cell_type": "markdown",
   "id": "dress-oregon",
   "metadata": {},
   "source": [
    "## VS filtering"
   ]
  },
  {
   "cell_type": "code",
   "execution_count": 67,
   "id": "freelance-matter",
   "metadata": {},
   "outputs": [
    {
     "name": "stdout",
     "output_type": "stream",
     "text": [
      "UNCERTAINTY MAPS...\n",
      "MEAN Dice BEFORE filtering: + CI 0.84 0.8258 0.859\n",
      "MEAN Dice AFTER filtering + CI: 0.8504 0.84 0.8622\n",
      "MEAN Precision + CI: 0.9297 0.8961 0.9757\n",
      "MEAN Recall + CI: 0.8874 0.8397 0.9319\n",
      "MEAN N observation AFTER filtering: 3.1999999999999993\n",
      "MEAN Correlation + CI: 0.5219 0.4211 0.6129\n"
     ]
    },
    {
     "data": {
      "image/png": "[encoded data removed]",
      "text/plain": [
       "<Figure size 432x288 with 1 Axes>"
      ]
     },
     "metadata": {},
     "output_type": "display_data"
    },
    {
     "name": "stdout",
     "output_type": "stream",
     "text": [
      "ERROR MAPS...\n",
      "MEAN Dice BEFORE filtering: + CI 0.84 0.8258 0.859\n",
      "MEAN Dice AFTER filtering + CI: 0.8366 0.8195 0.8582\n",
      "MEAN Precision + CI: 0.4778 0.4287 0.5672\n",
      "MEAN Recall + CI: 0.8291 0.7778 0.8803\n",
      "MEAN N observation AFTER filtering: 9.8\n",
      "MEAN Correlation + CI: -0.2517 -0.3571 -0.1154\n"
     ]
    },
    {
     "data": {
      "image/png": "[encoded data removed]",
      "text/plain": [
       "<Figure size 432x288 with 1 Axes>"
      ]
     },
     "metadata": {},
     "output_type": "display_data"
    }
   ],
   "source": [
    "data_path = '/Users/elena.williams/reg_net/'\n",
    "\n",
    "\n",
    "############################################### UNCERTAINTY ###############################################\n",
    "\n",
    "print('UNCERTAINTY MAPS...')\n",
    "final_res, m_Dice, n_obs, corr, rec, pres = [], [], [], [], [], []    \n",
    "for i in np.arange(1,6):\n",
    "    with open(data_path+str(i)+'entropy_unc_test.pkl', 'rb') as f:\n",
    "        entropy_map_t = pickle.load(f)\n",
    "    entropy_map_t = entropy_map_t[:,:,:,:,1]\n",
    "    entropy_map_t = rescale(entropy_map_t, max=1)\n",
    "    dice_test = np.loadtxt(data_path+str(i)+'dice_test.txt', dtype=float)\n",
    "    dice_test = np.around(dice_test, decimals=4)\n",
    "    unc_sum = []\n",
    "    for k in np.arange(0,21):\n",
    "        value = (np.sum(entropy_map_t[k,:,:,:]))\n",
    "        unc_sum.append(value)\n",
    "    unc_sum = np.array(unc_sum)\n",
    "    coef = np.array(scipy.stats.pearsonr(dice_test, unc_sum))\n",
    "    dice_filtered = dice_test[unc_sum > 1100]\n",
    "    #print(true_dice_failed.shape)\n",
    "    fake = unc_sum < 1100\n",
    "    true = dice_test < 0.75\n",
    "    TP, FP, FN, TN = confusion_matrix(true, fake).ravel()\n",
    "    precision = TP/(TP+FP)\n",
    "    recall = TP/(TP+FN)\n",
    "    n = dice_filtered.shape\n",
    "    median_dice_f = np.median(dice_filtered)\n",
    "    final_res.append(median_dice_f)\n",
    "    m_Dice.append(np.median(dice_test))\n",
    "    corr.append(coef[0])\n",
    "    n_obs.append(n)\n",
    "    pres.append(precision)\n",
    "    rec.append(recall)\n",
    "\n",
    "    \n",
    "final_res = np.array(final_res)\n",
    "lci_fil, uci_fil = boot.ci(final_res, np.mean)\n",
    "m_Dice = np.array(m_Dice)\n",
    "lci_b, uci_b = boot.ci(m_Dice, np.mean)\n",
    "print('MEAN Dice BEFORE filtering: + CI', np.round(np.mean(m_Dice),4), np.round(lci_b,4), np.round(uci_b,4))\n",
    "print('MEAN Dice AFTER filtering + CI:', np.round(np.mean(final_res),4), np.round(lci_fil,4), np.round(uci_fil,4))\n",
    "pres = np.array(pres)\n",
    "lci_pr, uci_pr = boot.ci(pres, np.mean)\n",
    "print('MEAN Precision + CI:', np.round(np.mean(pres),4), np.round(lci_pr,4), np.round(uci_pr,4))\n",
    "rec = np.array(rec)\n",
    "lci_rec, uci_rec = boot.ci(rec, np.mean)\n",
    "print('MEAN Recall + CI:', np.round(np.mean(rec),4), np.round(lci_rec,4), np.round(uci_rec,4))\n",
    "n_obs = np.array(n_obs)\n",
    "#lci_n, uci_n = boot.ci(n_obs, np.mean)\n",
    "print('MEAN N observation AFTER filtering:', 21-np.mean(n_obs))\n",
    "\n",
    "corr = np.array(corr)\n",
    "lci_corr, uci_corr = boot.ci(corr, np.mean)\n",
    "print('MEAN Correlation + CI:', np.round(np.mean(corr),4), np.round(lci_corr,4), np.round(uci_corr,4))\n",
    "\n",
    "df = pd.DataFrame(data = [final_res, pres, rec, corr])\n",
    "df = df.T\n",
    "df.columns = ['Post Dice','Precision', 'Recall','Correlation']\n",
    "sns.boxplot(x=\"variable\", y=\"value\", data=pd.melt(df))\n",
    "plt.title('QC performance of VS method: Uncertainty maps')\n",
    "\n",
    "plt.show()\n",
    "\n",
    "df1 = df.copy()\n",
    "############################################### ERROR  ###############################################\n",
    "\n",
    "\n",
    "print('ERROR MAPS...')\n",
    "final_res, m_Dice, n_obs, corr, rec, pres = [], [], [], [], [], []    \n",
    "for i in np.arange(1,6):\n",
    "    with open(data_path+str(i)+'em.pkl', 'rb') as f:\n",
    "        em = pickle.load(f)\n",
    "    em = np.squeeze(em)\n",
    "    dice_test = np.loadtxt(data_path+str(i)+'dice_test.txt', dtype=float)\n",
    "    dice_test = np.around(dice_test, decimals=4)\n",
    "    em_sum = []\n",
    "    for k in np.arange(0,21):\n",
    "        value = (np.sum(em[k,:,:,:]))\n",
    "        em_sum.append(value)\n",
    "    em_sum = np.array(em_sum)\n",
    "    coef = np.array(scipy.stats.pearsonr(dice_test, em_sum))\n",
    "    dice_filtered = dice_test[em_sum < 20000]\n",
    "    fake = em_sum < 20000\n",
    "    true = dice_test < 0.75\n",
    "    TP, FP, FN, TN = confusion_matrix(true, fake).ravel()\n",
    "    precision = TP/(TP+FP)\n",
    "    recall = TP/(TP+FN)\n",
    "    n = dice_filtered.shape\n",
    "    median_dice_f = np.median(dice_filtered)\n",
    "    final_res.append(median_dice_f)\n",
    "    m_Dice.append(np.median(dice_test))\n",
    "    corr.append(coef[0])\n",
    "    n_obs.append(n)\n",
    "    pres.append(precision)\n",
    "    rec.append(recall)\n",
    "    \n",
    "final_res = np.array(final_res)\n",
    "lci_fil, uci_fil = boot.ci(final_res, np.mean)\n",
    "m_Dice = np.array(m_Dice)\n",
    "lci_b, uci_b = boot.ci(m_Dice, np.mean)\n",
    "print('MEAN Dice BEFORE filtering: + CI', np.round(np.mean(m_Dice),4), np.round(lci_b,4), np.round(uci_b,4))\n",
    "print('MEAN Dice AFTER filtering + CI:', np.round(np.mean(final_res),4), np.round(lci_fil,4), np.round(uci_fil,4))\n",
    "pres = np.array(pres)\n",
    "lci_pr, uci_pr = boot.ci(pres, np.mean)\n",
    "print('MEAN Precision + CI:', np.round(np.mean(pres),4), np.round(lci_pr,4), np.round(uci_pr,4))\n",
    "rec = np.array(rec)\n",
    "lci_rec, uci_rec = boot.ci(rec, np.mean)\n",
    "print('MEAN Recall + CI:', np.round(np.mean(rec),4), np.round(lci_rec,4), np.round(uci_rec,4))\n",
    "n_obs = np.array(n_obs)\n",
    "#lci_n, uci_n = boot.ci(n_obs, np.mean)\n",
    "print('MEAN N observation AFTER filtering:', 21-np.mean(n_obs))\n",
    "\n",
    "corr = np.array(corr)\n",
    "lci_corr, uci_corr = boot.ci(corr, np.mean)\n",
    "print('MEAN Correlation + CI:', np.round(np.mean(corr),4), np.round(lci_corr,4), np.round(uci_corr,4))\n",
    "df = pd.DataFrame(data = [final_res, pres, rec, corr])\n",
    "df = df.T\n",
    "df.columns = ['Post Dice','Precision','Recall', 'Correlation']\n",
    "sns.boxplot(x=\"variable\", y=\"value\", data=pd.melt(df))\n",
    "plt.title('QC performance of VS method: Error maps')\n",
    "\n",
    "plt.show()\n",
    "\n",
    "df2 = df.copy()"
   ]
  },
  {
   "cell_type": "code",
   "execution_count": 68,
   "id": "talented-barcelona",
   "metadata": {},
   "outputs": [
    {
     "data": {
      "image/png": "[encoded data removed]",
      "text/plain": [
       "<Figure size 612x216 with 2 Axes>"
      ]
     },
     "metadata": {},
     "output_type": "display_data"
    }
   ],
   "source": [
    "fig, ax = plt.subplots(1,2,figsize=(8.5,3))\n",
    "sns.boxplot(x=\"variable\", y=\"value\", data=pd.melt(df1), ax=ax[0], palette=\"Set3\")\n",
    "sns.boxplot(x=\"variable\", y=\"value\", data=pd.melt(df2), ax=ax[1], palette=\"Set3\")\n",
    "\n",
    "ax[0].set(xlabel='', ylabel='Coefficient')\n",
    "plt.title('QC performance of VS method')\n",
    "\n",
    "ax[0].title.set_text('Uncertainty Maps')\n",
    "ax[1].title.set_text('Error Maps')\n",
    "\n",
    "ax[1].set(xlabel='', ylabel='')\n",
    "sns.despine(left=False, bottom=False, top=True, right=True)\n",
    "\n",
    "plt.tight_layout()\n",
    "\n",
    "plt.savefig(os.path.join('plot_VS.pdf'))\n",
    "plt.show()"
   ]
  },
  {
   "cell_type": "code",
   "execution_count": null,
   "id": "controlled-optimization",
   "metadata": {},
   "outputs": [],
   "source": [
    "c = pd.concat([a,b],ignore_index=True)"
   ]
  },
  {
   "cell_type": "markdown",
   "id": "rubber-action",
   "metadata": {},
   "source": [
    "## Regression method"
   ]
  },
  {
   "cell_type": "code",
   "execution_count": 70,
   "id": "laden-latvia",
   "metadata": {},
   "outputs": [
    {
     "name": "stdout",
     "output_type": "stream",
     "text": [
      "IMAGE - PREDICTION MAPS...\n",
      "MEAN Dice BEFORE filtering: + CI 0.84 0.8269 0.859\n",
      "MEAN Dice AFTER filtering + CI: 0.8482 0.8373 0.8608\n",
      "MEAN Precision + CI: 0.9054 0.8029 0.9765\n",
      "MEAN Recall + CI: 0.8373 0.8038 0.8758\n",
      "MEAN N observation AFTER filtering: 2.6000000000000014\n",
      "MEAN Correlation + CI: 0.5724 0.495 0.6287\n",
      "MEAN MAE + CI: 0.0537 0.052 0.0557\n"
     ]
    },
    {
     "data": {
      "image/png": "[encoded data removed]",
      "text/plain": [
       "<Figure size 432x288 with 1 Axes>"
      ]
     },
     "metadata": {},
     "output_type": "display_data"
    },
    {
     "name": "stdout",
     "output_type": "stream",
     "text": [
      "UNCERTAINTY - PREDICTION MAPS...\n",
      "MEAN Dice BEFORE filtering: + CI 0.84 0.8258 0.8577\n",
      "MEAN Dice AFTER filtering + CI: 0.8525 0.8375 0.8654\n"
     ]
    },
    {
     "name": "stderr",
     "output_type": "stream",
     "text": [
      "<ipython-input-70-3f027ee3bb7f>:97: InstabilityWarning: Some values used extremal samples; results are probably unstable.\n",
      "  lci_pr, uci_pr = boot.ci(pres, np.mean)\n"
     ]
    },
    {
     "name": "stdout",
     "output_type": "stream",
     "text": [
      "MEAN Precision + CI: 0.9684 0.8421 1.0\n",
      "MEAN Recall + CI: 0.8667 0.7714 0.9524\n",
      "MEAN N observation AFTER filtering: 1.8000000000000007\n",
      "MEAN Correlation + CI: 0.7124 0.6594 0.7538\n",
      "MEAN MAE + CI: 0.0486 0.0412 0.0623\n"
     ]
    },
    {
     "data": {
      "image/png": "[encoded data removed]",
      "text/plain": [
       "<Figure size 432x288 with 1 Axes>"
      ]
     },
     "metadata": {},
     "output_type": "display_data"
    },
    {
     "name": "stdout",
     "output_type": "stream",
     "text": [
      "ERROR - PREDICTION MAPS...\n",
      "MEAN Dice BEFORE filtering: + CI 0.84 0.8258 0.859\n",
      "MEAN Dice AFTER filtering + CI: 0.8605 0.8417 0.8749\n",
      "MEAN Precision + CI: 0.826 0.4142 0.9672\n",
      "MEAN Recall + CI: 0.8679 0.7981 0.9556\n",
      "MEAN N observation AFTER filtering: 4.800000000000001\n",
      "MEAN Correlation + CI: 0.6765 0.4873 0.7446\n",
      "MEAN MAE + CI: 0.0593 0.0441 0.0854\n"
     ]
    },
    {
     "data": {
      "image/png": "[encoded data removed]",
      "text/plain": [
       "<Figure size 432x288 with 1 Axes>"
      ]
     },
     "metadata": {},
     "output_type": "display_data"
    }
   ],
   "source": [
    "data_path = '/Users/elena.williams/reg_net/'\n",
    "\n",
    "res_path = '/Users/elena.williams/res/'\n",
    "\n",
    "############################################### IMAGE - PREDICTION ###############################################\n",
    "\n",
    "print('IMAGE - PREDICTION MAPS...')\n",
    "final_res, m_Dice, n_obs, pres, rec, corr, mae = [], [], [], [], [], [], []    \n",
    "for i in np.arange(1,6):\n",
    "    dice_test = np.loadtxt(data_path+str(i)+'dice_test.txt', dtype=float)\n",
    "    dice_test = np.around(dice_test, decimals=4)\n",
    "    pred = np.loadtxt(res_path+str(i)+'predictions_IP.txt', dtype=float)\n",
    "    coef = np.loadtxt(res_path+str(i)+'corr_IP.txt', dtype=float)\n",
    "    error = np.loadtxt(res_path+str(i)+'mae_IP.xt', dtype=float)\n",
    "    dice_filtered = dice_test[pred > 0.75]\n",
    "    fake = pred < 0.75\n",
    "    true = dice_test < 0.75\n",
    "    TP, FP, FN, TN = confusion_matrix(true, fake).ravel()\n",
    "    precision = TP/(TP+FP)\n",
    "    recall = TP/(TP+FN)\n",
    "    n = dice_filtered.shape\n",
    "    median_dice_f = np.median(dice_filtered)\n",
    "    final_res.append(median_dice_f)\n",
    "    m_Dice.append(np.median(dice_test))\n",
    "    n_obs.append(n)\n",
    "    pres.append(precision)\n",
    "    rec.append(recall)\n",
    "    corr.append(coef[0])\n",
    "    mae.append(error)\n",
    "\n",
    "\n",
    "final_res = np.array(final_res)\n",
    "lci_fil, uci_fil = boot.ci(final_res, np.mean)\n",
    "m_Dice = np.array(m_Dice)\n",
    "lci_b, uci_b = boot.ci(m_Dice, np.mean)\n",
    "print('MEAN Dice BEFORE filtering: + CI', np.round(np.mean(m_Dice),4), np.round(lci_b,4), np.round(uci_b,4))\n",
    "print('MEAN Dice AFTER filtering + CI:', np.round(np.mean(final_res),4), np.round(lci_fil,4), np.round(uci_fil,4))\n",
    "pres = np.array(pres)\n",
    "lci_pr, uci_pr = boot.ci(pres, np.mean)\n",
    "print('MEAN Precision + CI:', np.round(np.mean(pres),4), np.round(lci_pr,4), np.round(uci_pr,4))\n",
    "rec = np.array(rec)\n",
    "lci_rec, uci_rec = boot.ci(rec, np.mean)\n",
    "print('MEAN Recall + CI:', np.round(np.mean(rec),4), np.round(lci_rec,4), np.round(uci_rec,4))\n",
    "n_obs = np.array(n_obs)\n",
    "#lci_n, uci_n = boot.ci(n_obs, np.mean)\n",
    "print('MEAN N observation AFTER filtering:', 21-np.mean(n_obs))\n",
    "\n",
    "corr = np.array(corr)\n",
    "lci_corr, uci_corr = boot.ci(corr, np.mean)\n",
    "print('MEAN Correlation + CI:', np.round(np.mean(corr),4), np.round(lci_corr,4), np.round(uci_corr,4))\n",
    "mae = np.array(mae)\n",
    "lci_mae, uci_mae = boot.ci(mae, np.mean)\n",
    "print('MEAN MAE + CI:', np.round(np.mean(mae),4), np.round(lci_mae,4), np.round(uci_mae,4))\n",
    "\n",
    "df = pd.DataFrame(data = [final_res, pres, rec, corr, mae])\n",
    "df = df.T\n",
    "df.columns = ['Post Dice','Precision','Recall', 'Corr', 'MAE']\n",
    "sns.boxplot(x=\"variable\", y=\"value\", data=pd.melt(df))\n",
    "plt.title('QC performance of Regression method: Image-Prediction pair')\n",
    "\n",
    "plt.show()\n",
    "df1 = df.copy()\n",
    "############################################### UNCERTAINTY - PREDICTION ###############################################\n",
    "\n",
    "print('UNCERTAINTY - PREDICTION MAPS...')\n",
    "final_res, m_Dice, n_obs, pres, rec, corr, mae = [], [], [], [], [], [], []    \n",
    "for i in np.arange(1,6):\n",
    "    dice_test = np.loadtxt(data_path+str(i)+'dice_test.txt', dtype=float)\n",
    "    dice_test = np.around(dice_test, decimals=4)\n",
    "    pred = np.loadtxt(res_path+str(i)+'predictions_PE.txt', dtype=float)\n",
    "    coef = np.loadtxt(res_path+str(i)+'corr_PE.txt', dtype=float)\n",
    "    error = np.loadtxt(res_path+str(i)+'mae_PE.txt', dtype=float)\n",
    "    dice_filtered = dice_test[pred > 0.75]\n",
    "    fake = pred < 0.75\n",
    "    true = dice_test < 0.75\n",
    "    TP, FP, FN, TN = confusion_matrix(true, fake).ravel()\n",
    "    precision = TP/(TP+FP)\n",
    "    recall = TP/(TP+FN)\n",
    "    n = dice_filtered.shape\n",
    "    median_dice_f = np.median(dice_filtered)\n",
    "    final_res.append(median_dice_f)\n",
    "    m_Dice.append(np.median(dice_test))\n",
    "    n_obs.append(n)\n",
    "    pres.append(precision)\n",
    "    rec.append(recall)\n",
    "    corr.append(coef[0])\n",
    "    mae.append(error)\n",
    "\n",
    "    \n",
    "final_res = np.array(final_res)\n",
    "lci_fil, uci_fil = boot.ci(final_res, np.mean)\n",
    "m_Dice = np.array(m_Dice)\n",
    "lci_b, uci_b = boot.ci(m_Dice, np.mean)\n",
    "print('MEAN Dice BEFORE filtering: + CI', np.round(np.mean(m_Dice),4), np.round(lci_b,4), np.round(uci_b,4))\n",
    "print('MEAN Dice AFTER filtering + CI:', np.round(np.mean(final_res),4), np.round(lci_fil,4), np.round(uci_fil,4))\n",
    "pres = np.array(pres)\n",
    "lci_pr, uci_pr = boot.ci(pres, np.mean)\n",
    "print('MEAN Precision + CI:', np.round(np.mean(pres),4), np.round(lci_pr,4), np.round(uci_pr,4))\n",
    "rec = np.array(rec)\n",
    "lci_rec, uci_rec = boot.ci(rec, np.mean)\n",
    "print('MEAN Recall + CI:', np.round(np.mean(rec),4), np.round(lci_rec,4), np.round(uci_rec,4))\n",
    "n_obs = np.array(n_obs)\n",
    "#lci_n, uci_n = boot.ci(n_obs, np.mean)\n",
    "print('MEAN N observation AFTER filtering:', 21-np.mean(n_obs))\n",
    "\n",
    "corr = np.array(corr)\n",
    "lci_corr, uci_corr = boot.ci(corr, np.mean)\n",
    "print('MEAN Correlation + CI:', np.round(np.mean(corr),4), np.round(lci_corr,4), np.round(uci_corr,4))\n",
    "mae = np.array(mae)\n",
    "lci_mae, uci_mae = boot.ci(mae, np.mean)\n",
    "print('MEAN MAE + CI:', np.round(np.mean(mae),4), np.round(lci_mae,4), np.round(uci_mae,4))\n",
    "df = pd.DataFrame(data = [final_res, pres, rec, corr, mae])\n",
    "df = df.T\n",
    "df.columns = ['Post Dice','Precision','Recall', 'Corr', 'MAE']\n",
    "sns.boxplot(x=\"variable\", y=\"value\", data=pd.melt(df))\n",
    "plt.title('QC performance of Regression method: Uncertainty-Prediction pair')\n",
    "\n",
    "plt.show()\n",
    "df2 = df.copy()\n",
    "############################################### ERROR - PREDICTION ###############################################\n",
    "\n",
    "\n",
    "print('ERROR - PREDICTION MAPS...')\n",
    "final_res, m_Dice, n_obs, pres, rec, corr, mae = [], [], [], [], [], [], []    \n",
    "for i in np.arange(1,6):\n",
    "    dice_test = np.loadtxt(data_path+str(i)+'dice_test.txt', dtype=float)\n",
    "    dice_test = np.around(dice_test, decimals=4)\n",
    "    pred = np.loadtxt(res_path+str(i)+'predictions_em.txt', dtype=float)\n",
    "    coef = np.loadtxt(res_path+str(i)+'corr_em.txt', dtype=float)\n",
    "    error = np.loadtxt(res_path+str(i)+'mae_em.txt', dtype=float)\n",
    "    dice_filtered = dice_test[pred > 0.75]\n",
    "    n = dice_filtered.shape\n",
    "    true_dice_failed = dice_test[dice_test < 0.75]\n",
    "    fake = pred < 0.75\n",
    "    true = dice_test < 0.75\n",
    "    TP, FP, FN, TN = confusion_matrix(true, fake).ravel()\n",
    "    precision = TP/(TP+FP)\n",
    "    recall = TP/(TP+FN)\n",
    "    n = dice_filtered.shape\n",
    "    median_dice_f = np.median(dice_filtered)\n",
    "    final_res.append(median_dice_f)\n",
    "    m_Dice.append(np.median(dice_test))\n",
    "    n_obs.append(n)\n",
    "    pres.append(precision)\n",
    "    rec.append(recall)\n",
    "    corr.append(coef[0])\n",
    "    mae.append(error)\n",
    "    \n",
    "final_res = np.array(final_res)\n",
    "lci_fil, uci_fil = boot.ci(final_res, np.mean)\n",
    "m_Dice = np.array(m_Dice)\n",
    "lci_b, uci_b = boot.ci(m_Dice, np.mean)\n",
    "print('MEAN Dice BEFORE filtering: + CI', np.round(np.mean(m_Dice),4), np.round(lci_b,4), np.round(uci_b,4))\n",
    "print('MEAN Dice AFTER filtering + CI:', np.round(np.mean(final_res),4), np.round(lci_fil,4), np.round(uci_fil,4))\n",
    "pres = np.array(pres)\n",
    "lci_pr, uci_pr = boot.ci(pres, np.mean)\n",
    "print('MEAN Precision + CI:', np.round(np.mean(pres),4), np.round(lci_pr,4), np.round(uci_pr,4))\n",
    "rec = np.array(rec)\n",
    "lci_rec, uci_rec = boot.ci(rec, np.mean)\n",
    "print('MEAN Recall + CI:', np.round(np.mean(rec),4), np.round(lci_rec,4), np.round(uci_rec,4))\n",
    "n_obs = np.array(n_obs)\n",
    "#lci_n, uci_n = boot.ci(n_obs, np.mean)\n",
    "print('MEAN N observation AFTER filtering:', 21-np.mean(n_obs))\n",
    "\n",
    "corr = np.array(corr)\n",
    "lci_corr, uci_corr = boot.ci(corr, np.mean)\n",
    "print('MEAN Correlation + CI:', np.round(np.mean(corr),4), np.round(lci_corr,4), np.round(uci_corr,4))\n",
    "mae = np.array(mae)\n",
    "lci_mae, uci_mae = boot.ci(mae, np.mean)\n",
    "print('MEAN MAE + CI:', np.round(np.mean(mae),4), np.round(lci_mae,4), np.round(uci_mae,4))\n",
    "\n",
    "df = pd.DataFrame(data = [final_res, pres, rec, corr, mae])\n",
    "df = df.T\n",
    "df.columns = ['Post Dice','Precision','Recall', 'Corr', 'MAE']\n",
    "sns.boxplot(x=\"variable\", y=\"value\", data=pd.melt(df))\n",
    "plt.title('QC performance of Regression method: Error-Prediction pair')\n",
    "\n",
    "plt.show()\n",
    "df3 = df.copy()"
   ]
  },
  {
   "cell_type": "code",
   "execution_count": 71,
   "id": "grave-postage",
   "metadata": {},
   "outputs": [
    {
     "data": {
      "image/png": "[encoded data removed]",
      "text/plain": [
       "<Figure size 900x216 with 3 Axes>"
      ]
     },
     "metadata": {},
     "output_type": "display_data"
    }
   ],
   "source": [
    "sns.set_style(\"white\")\n",
    "fig, ax = plt.subplots(1,3,figsize=(12.5,3))\n",
    "sns.boxplot(x=\"variable\", y=\"value\", data=pd.melt(df1), ax=ax[0], palette=\"Set3\")\n",
    "sns.boxplot(x=\"variable\", y=\"value\", data=pd.melt(df2), ax=ax[1], palette=\"Set3\")\n",
    "sns.boxplot(x=\"variable\", y=\"value\", data=pd.melt(df3), ax=ax[2], palette=\"Set3\")\n",
    "\n",
    "ax[0].set(xlabel='', ylabel='Coefficient')\n",
    "\n",
    "ax[0].title.set_text('Image-Prediction Maps')\n",
    "ax[1].title.set_text('Uncertainty-Prediction Maps')\n",
    "ax[2].title.set_text('Error-Prediction Maps')\n",
    "sns.despine(left=False, bottom=False, top=True, right=True)\n",
    "\n",
    "ax[1].set(xlabel='', ylabel='')\n",
    "ax[2].set(xlabel='', ylabel='')\n",
    "\n",
    "plt.tight_layout()\n",
    "\n",
    "plt.savefig(os.path.join('plot_reg.pdf'))\n",
    "plt.show()"
   ]
  },
  {
   "cell_type": "code",
   "execution_count": null,
   "id": "compliant-expansion",
   "metadata": {},
   "outputs": [],
   "source": []
  }
 ],
 "metadata": {
  "kernelspec": {
   "display_name": "Python 3",
   "language": "python",
   "name": "python3"
  },
  "language_info": {
   "codemirror_mode": {
    "name": "ipython",
    "version": 3
   },
   "file_extension": ".py",
   "mimetype": "text/x-python",
   "name": "python",
   "nbconvert_exporter": "python",
   "pygments_lexer": "ipython3",
   "version": "3.8.5"
  }
 },
 "nbformat": 4,
 "nbformat_minor": 5
}
